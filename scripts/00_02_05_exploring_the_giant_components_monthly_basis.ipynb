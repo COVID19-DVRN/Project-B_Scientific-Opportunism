{
 "cells": [
  {
   "cell_type": "code",
   "execution_count": 16,
   "metadata": {},
   "outputs": [],
   "source": [
    "import networkx as nx\n",
    "import json\n",
    "import numpy as np\n",
    "import matplotlib.pyplot as plt\n",
    "import pickle\n",
    "from operator import itemgetter\n",
    "import datetime\n",
    "import pandas as pd\n",
    "from collections import defaultdict\n",
    "from itertools import combinations\n",
    "pd.options.display.max_rows = 10"
   ]
  },
  {
   "cell_type": "code",
   "execution_count": 17,
   "metadata": {},
   "outputs": [],
   "source": [
    "output_code = \"00_02_05\""
   ]
  },
  {
   "cell_type": "code",
   "execution_count": 181,
   "metadata": {},
   "outputs": [
    {
     "name": "stderr",
     "output_type": "stream",
     "text": [
      "C:\\Users\\vldoa\\Anaconda3\\lib\\site-packages\\IPython\\core\\interactiveshell.py:3063: DtypeWarning: Columns (13,14) have mixed types.Specify dtype option on import or set low_memory=False.\n",
      "  interactivity=interactivity, compiler=compiler, result=result)\n"
     ]
    }
   ],
   "source": [
    "metadata = pd.read_csv('../big-data/metadata_20-06-05.csv')"
   ]
  },
  {
   "cell_type": "markdown",
   "metadata": {},
   "source": [
    "### Create the network where authors come in every quarter"
   ]
  },
  {
   "cell_type": "code",
   "execution_count": 18,
   "metadata": {},
   "outputs": [],
   "source": [
    "def strf_date_if_not_na(x, strftime='%Y-%m'):\n",
    "    if pd.isna(x):\n",
    "        return np.nan\n",
    "    else:\n",
    "        return x.strftime('%Y-%m')"
   ]
  },
  {
   "cell_type": "code",
   "execution_count": 19,
   "metadata": {},
   "outputs": [],
   "source": [
    "article_authors = pd.read_csv(\"../big-data/article-authors_06-05.csv\",sep = \"|\")"
   ]
  },
  {
   "cell_type": "code",
   "execution_count": 34,
   "metadata": {},
   "outputs": [],
   "source": [
    "article_authors_filtered = article_authors[article_authors['converted_datetime'].notnull()]\n",
    "article_authors_filtered = article_authors_filtered[article_authors_filtered[\"cord_uid\"] != \"1vimqhdp\"]\n",
    "article_authors_filtered = article_authors_filtered[article_authors_filtered['converted_datetime'] > '1970']"
   ]
  },
  {
   "cell_type": "code",
   "execution_count": 84,
   "metadata": {},
   "outputs": [
    {
     "data": {
      "text/html": [
       "<div>\n",
       "<style scoped>\n",
       "    .dataframe tbody tr th:only-of-type {\n",
       "        vertical-align: middle;\n",
       "    }\n",
       "\n",
       "    .dataframe tbody tr th {\n",
       "        vertical-align: top;\n",
       "    }\n",
       "\n",
       "    .dataframe thead th {\n",
       "        text-align: right;\n",
       "    }\n",
       "</style>\n",
       "<table border=\"1\" class=\"dataframe\">\n",
       "  <thead>\n",
       "    <tr style=\"text-align: right;\">\n",
       "      <th></th>\n",
       "      <th>cord_uid</th>\n",
       "      <th>authors</th>\n",
       "      <th>processed_author</th>\n",
       "      <th>author_id</th>\n",
       "      <th>publish_time</th>\n",
       "      <th>converted_datetime</th>\n",
       "    </tr>\n",
       "  </thead>\n",
       "  <tbody>\n",
       "    <tr>\n",
       "      <th>57801</th>\n",
       "      <td>1vimqhdp</td>\n",
       "      <td>Tinmouth, A.</td>\n",
       "      <td>a tinmouth</td>\n",
       "      <td>2615</td>\n",
       "      <td>2016-04-20</td>\n",
       "      <td>2016-04-20</td>\n",
       "    </tr>\n",
       "    <tr>\n",
       "      <th>57802</th>\n",
       "      <td>1vimqhdp</td>\n",
       "      <td>Adati, T.</td>\n",
       "      <td>t adati</td>\n",
       "      <td>108731</td>\n",
       "      <td>2016-04-20</td>\n",
       "      <td>2016-04-20</td>\n",
       "    </tr>\n",
       "    <tr>\n",
       "      <th>57803</th>\n",
       "      <td>1vimqhdp</td>\n",
       "      <td>Van Walraven, C.</td>\n",
       "      <td>c van walraven</td>\n",
       "      <td>16795</td>\n",
       "      <td>2016-04-20</td>\n",
       "      <td>2016-04-20</td>\n",
       "    </tr>\n",
       "    <tr>\n",
       "      <th>57804</th>\n",
       "      <td>1vimqhdp</td>\n",
       "      <td>Dhaliwal, A.</td>\n",
       "      <td>a dhaliwal</td>\n",
       "      <td>670</td>\n",
       "      <td>2016-04-20</td>\n",
       "      <td>2016-04-20</td>\n",
       "    </tr>\n",
       "    <tr>\n",
       "      <th>57805</th>\n",
       "      <td>1vimqhdp</td>\n",
       "      <td>Ziegler, J.</td>\n",
       "      <td>j ziegler</td>\n",
       "      <td>49642</td>\n",
       "      <td>2016-04-20</td>\n",
       "      <td>2016-04-20</td>\n",
       "    </tr>\n",
       "    <tr>\n",
       "      <th>...</th>\n",
       "      <td>...</td>\n",
       "      <td>...</td>\n",
       "      <td>...</td>\n",
       "      <td>...</td>\n",
       "      <td>...</td>\n",
       "      <td>...</td>\n",
       "    </tr>\n",
       "    <tr>\n",
       "      <th>60261</th>\n",
       "      <td>1vimqhdp</td>\n",
       "      <td>Tamion, F.</td>\n",
       "      <td>f tamion</td>\n",
       "      <td>33294</td>\n",
       "      <td>2016-04-20</td>\n",
       "      <td>2016-04-20</td>\n",
       "    </tr>\n",
       "    <tr>\n",
       "      <th>60262</th>\n",
       "      <td>1vimqhdp</td>\n",
       "      <td>Sauneuf, B.</td>\n",
       "      <td>b sauneuf</td>\n",
       "      <td>12104</td>\n",
       "      <td>2016-04-20</td>\n",
       "      <td>2016-04-20</td>\n",
       "    </tr>\n",
       "    <tr>\n",
       "      <th>60263</th>\n",
       "      <td>1vimqhdp</td>\n",
       "      <td>Lemaire, C.</td>\n",
       "      <td>c lemaire</td>\n",
       "      <td>16175</td>\n",
       "      <td>2016-04-20</td>\n",
       "      <td>2016-04-20</td>\n",
       "    </tr>\n",
       "    <tr>\n",
       "      <th>60264</th>\n",
       "      <td>1vimqhdp</td>\n",
       "      <td>Busatti, S.</td>\n",
       "      <td>s busatti</td>\n",
       "      <td>98217</td>\n",
       "      <td>2016-04-20</td>\n",
       "      <td>2016-04-20</td>\n",
       "    </tr>\n",
       "    <tr>\n",
       "      <th>60265</th>\n",
       "      <td>1vimqhdp</td>\n",
       "      <td>Candidi, F.</td>\n",
       "      <td>f candidi</td>\n",
       "      <td>32651</td>\n",
       "      <td>2016-04-20</td>\n",
       "      <td>2016-04-20</td>\n",
       "    </tr>\n",
       "  </tbody>\n",
       "</table>\n",
       "<p>2440 rows × 6 columns</p>\n",
       "</div>"
      ],
      "text/plain": [
       "       cord_uid           authors processed_author  author_id publish_time  \\\n",
       "57801  1vimqhdp      Tinmouth, A.       a tinmouth       2615   2016-04-20   \n",
       "57802  1vimqhdp         Adati, T.          t adati     108731   2016-04-20   \n",
       "57803  1vimqhdp  Van Walraven, C.   c van walraven      16795   2016-04-20   \n",
       "57804  1vimqhdp      Dhaliwal, A.       a dhaliwal        670   2016-04-20   \n",
       "57805  1vimqhdp       Ziegler, J.        j ziegler      49642   2016-04-20   \n",
       "...         ...               ...              ...        ...          ...   \n",
       "60261  1vimqhdp        Tamion, F.         f tamion      33294   2016-04-20   \n",
       "60262  1vimqhdp       Sauneuf, B.        b sauneuf      12104   2016-04-20   \n",
       "60263  1vimqhdp       Lemaire, C.        c lemaire      16175   2016-04-20   \n",
       "60264  1vimqhdp       Busatti, S.        s busatti      98217   2016-04-20   \n",
       "60265  1vimqhdp       Candidi, F.        f candidi      32651   2016-04-20   \n",
       "\n",
       "      converted_datetime  \n",
       "57801         2016-04-20  \n",
       "57802         2016-04-20  \n",
       "57803         2016-04-20  \n",
       "57804         2016-04-20  \n",
       "57805         2016-04-20  \n",
       "...                  ...  \n",
       "60261         2016-04-20  \n",
       "60262         2016-04-20  \n",
       "60263         2016-04-20  \n",
       "60264         2016-04-20  \n",
       "60265         2016-04-20  \n",
       "\n",
       "[2440 rows x 6 columns]"
      ]
     },
     "execution_count": 84,
     "metadata": {},
     "output_type": "execute_result"
    }
   ],
   "source": [
    "article_authors[article_authors['cord_uid'] == '1vimqhdp']"
   ]
  },
  {
   "cell_type": "code",
   "execution_count": 36,
   "metadata": {},
   "outputs": [],
   "source": [
    "article_authors_filtered[\"year_month\"] = article_authors_filtered[\"converted_datetime\"].apply(\n",
    "    lambda x: str(pd.Timestamp(x).year)\n",
    ")\n",
    "\n",
    "earliest_publication = article_authors_filtered[['author_id', 'converted_datetime']].groupby('author_id')\\\n",
    "            .min()[['converted_datetime']].reset_index()\n",
    "earliest_publication[\"year_month\"] = earliest_publication[\"converted_datetime\"].apply(\n",
    "    lambda x: str(pd.Timestamp(x).year)\n",
    ")"
   ]
  },
  {
   "cell_type": "code",
   "execution_count": 37,
   "metadata": {},
   "outputs": [],
   "source": [
    "## We create a dictionary where the key is the year_quarter and\n",
    "## value is the list of nodes that first published in that quarter\n",
    "# https://stackoverflow.com/questions/29876184/groupby-results-to-dictionary-of-lists\n",
    "dict_newcomer_nodes_by_year_quarter = earliest_publication.groupby(\"year_month\")[\"author_id\"].apply(set).to_dict()"
   ]
  },
  {
   "cell_type": "code",
   "execution_count": 150,
   "metadata": {},
   "outputs": [],
   "source": [
    "def return_dict(df):\n",
    "    ## Portion of nodes in the connected giant components\n",
    "    dict_portion_new_nodes_in_gcc_by_quarter = dict()\n",
    "\n",
    "    ## Get unique weeks first. It is possible that the week information might\n",
    "    ## be noisy because automatically a date with no month or day information is\n",
    "    ## assigned with first day of the year\n",
    "\n",
    "    ## We will keep adding nodes into the network week by week\n",
    "    G = nx.Graph()\n",
    "\n",
    "\n",
    "    for current_quarter in sorted(df[\"year_month\"].unique()):\n",
    "        ## Current new papers that are published in this quarter\n",
    "        df_current_quarter = df[df[\"year_month\"]==current_quarter]\n",
    "        ## dictionary of coauthor set who have written the paper together\n",
    "        dict_coauthor_sets = df_current_quarter.groupby(\"cord_uid\")[\"author_id\"].apply(set).to_dict()\n",
    "        ## Creating an edgelist with weight for each co-author tuple\n",
    "        edgelist_with_weight = defaultdict(int)\n",
    "        for coauthor_set in dict_coauthor_sets.values():\n",
    "            for edge_tuple in combinations(sorted(coauthor_set),2):\n",
    "                    edgelist_with_weight[edge_tuple] += 1\n",
    "\n",
    "        for edge_tuple,weight in edgelist_with_weight.items():\n",
    "            e1,e2 = edge_tuple\n",
    "            if G.has_edge(e1,e2):\n",
    "                # we added this one before, just increase the weight by one\n",
    "                G[e1][e2]['weight'] += weight\n",
    "            else:\n",
    "                # new edge. add with weight=1\n",
    "                G.add_edge(e1, e2, weight=1)\n",
    "\n",
    "\n",
    "\n",
    "        ## Getting the current giant connected compnent nodes\n",
    "        gcc_nodes = sorted(nx.connected_components(G),key = len, reverse=True)[0]\n",
    "        ## Now we will compare what portion of newcomer nodes are in the giant connceted\n",
    "        ## component\n",
    "\n",
    "        if current_quarter in dict_newcomer_nodes_by_year_quarter:\n",
    "            nodes_current_quarter = dict_newcomer_nodes_by_year_quarter[current_quarter]\n",
    "            dict_portion_new_nodes_in_gcc_by_quarter[current_quarter] = len([node for node in nodes_current_quarter if node in gcc_nodes])/len(nodes_current_quarter)\n",
    "        else:\n",
    "            ## There were no new nodes that came in this quarter\n",
    "            pass\n",
    "    \n",
    "    return dict_portion_new_nodes_in_gcc_by_quarter"
   ]
  },
  {
   "cell_type": "code",
   "execution_count": 93,
   "metadata": {},
   "outputs": [],
   "source": [
    "dict_portion_new_nodes_in_gcc_by_quarter = return_dict(article_authors_filtered)"
   ]
  },
  {
   "cell_type": "markdown",
   "metadata": {},
   "source": [
    "### Now plotting the portion of newcomers in GCC in each month of years"
   ]
  },
  {
   "cell_type": "code",
   "execution_count": 94,
   "metadata": {},
   "outputs": [
    {
     "name": "stdout",
     "output_type": "stream",
     "text": [
      "Percent handheld in 2020: 56.7%\n",
      "Percent handheld in 2019: 62.7%\n"
     ]
    },
    {
     "data": {
      "image/png": "[encoded data removed]",
      "text/plain": [
       "<Figure size 432x288 with 2 Axes>"
      ]
     },
     "metadata": {
      "needs_background": "light"
     },
     "output_type": "display_data"
    }
   ],
   "source": [
    "fig,ax = plt.subplots( #figsize = (24,5)\n",
    "                     )\n",
    "keys,values = zip(*sorted(dict_portion_new_nodes_in_gcc_by_quarter.items()))\n",
    "keys, values = np.array(keys).astype(int), np.array(values)\n",
    "boolean = np.array(keys) > 1999\n",
    "ax.plot(keys[boolean], np.array(values)[boolean])\n",
    "value_2020 = values[np.argwhere(keys==2020).T[0]][0]\n",
    "value_2019 = values[np.argwhere(keys==2019).T[0]][0]\n",
    "plt.plot([min(keys[boolean]), max(keys[boolean])], [value_2020, value_2020], c='grey', linestyle='dashed')\n",
    "print('Percent handheld in 2020: ' + str(round(value_2020 * 100, 1)) + '%')\n",
    "print('Percent handheld in 2019: ' + str(round(value_2019 * 100, 1)) + '%')\n",
    "plt.ylim(0, 0.7)\n",
    "ax_newcomer_count = ax.twinx()\n",
    "\n",
    "\n",
    "timewindows, newcomer_counts = zip(*sorted({k:len(v) for k,v in dict_newcomer_nodes_by_year_quarter.items()}.items()))\n",
    "timewindows, newcomer_counts = np.array(timewindows).astype(int), np.array(newcomer_counts)\n",
    "boolean = np.array(timewindows) > 1999\n",
    "ax_newcomer_count.bar(timewindows[boolean],np.array(newcomer_counts)[boolean],\n",
    "                      width=0.6, alpha=0.3, zorder = 5, color = \"#fdbb84\")\n",
    "\n",
    "#ax_newcomer_count.set_yscale('log')\n",
    "ax.set_xticks([key for e, key in enumerate(keys[boolean]) if e % 5 == 0])\n",
    "# ax.set_xticklabels(keys,rotation=90)\n",
    "## Indicating the First quarter of 2020\n",
    "# ax.axvline(np.argwhere(keys == 2020)[0][0], color = \"red\")\n",
    "# ax.set_xlim(np.argwhere(keys == 2020)[0][0]-52,len(keys)+1)\n",
    "ax.grid(alpha = 0.3)\n",
    "#fig.tight_layout()\n",
    "ax.set_xlabel(\"Year-month\")\n",
    "ax.set_ylabel(\"Portion of newcomer nodes in\\ncurrent month who are part of existing gcc\")\n",
    "ax_newcomer_count.set_ylabel(\"Newcomers entered on the month\")\n",
    "plt.tight_layout()\n",
    "plt.savefig(\"../outputs/figures/%s_monthly_portion_of_newcomers_part_of_gcc.png\" %output_code, dpi = 150)\n",
    "plt.show()"
   ]
  },
  {
   "cell_type": "markdown",
   "metadata": {},
   "source": [
    "# Within a single year"
   ]
  },
  {
   "cell_type": "code",
   "execution_count": 132,
   "metadata": {},
   "outputs": [],
   "source": [
    "def get_dateinfox_from_a_string_datetime(s):\n",
    "    #return datetime.datetime.strptime(s,\"%Y-%m-%d\").month # get month\n",
    "    return datetime.datetime.strptime(s,\"%Y-%m-%d\").isocalendar()[1] # get week"
   ]
  },
  {
   "cell_type": "markdown",
   "metadata": {},
   "source": [
    "Edited code to drop Jan 1, 2020 publications."
   ]
  },
  {
   "cell_type": "code",
   "execution_count": 197,
   "metadata": {},
   "outputs": [],
   "source": [
    "searchterm = ''"
   ]
  },
  {
   "cell_type": "code",
   "execution_count": 198,
   "metadata": {},
   "outputs": [],
   "source": [
    "article_authors_filtered[\"year_month\"] = article_authors_filtered[\"converted_datetime\"].apply(\n",
    "    lambda x: str(pd.Timestamp(x).year) +\"-%02d\"%(get_dateinfox_from_a_string_datetime(x))\n",
    ")\n",
    "\n",
    "article_authors_filtered2 = article_authors_filtered[\n",
    "    article_authors_filtered[\"converted_datetime\"] != '2020-01-01'\n",
    "]\n",
    "cord_ids = metadata[metadata['abstract'].fillna('').str.lower().str.contains(searchterm)]['cord_uid']\n",
    "article_authors_filtered2 = article_authors_filtered2[article_authors_filtered2['cord_uid'].isin(cord_ids)]\n",
    "\n",
    "earliest_publication = article_authors_filtered2[['author_id', 'converted_datetime']].groupby('author_id')\\\n",
    "            .min()[['converted_datetime']].reset_index()\n",
    "earliest_publication[\"year_month\"] = earliest_publication[\"converted_datetime\"].apply(\n",
    "    lambda x: str(pd.Timestamp(x).year) +\"-%02d\"%(get_dateinfox_from_a_string_datetime(x))\n",
    ")"
   ]
  },
  {
   "cell_type": "code",
   "execution_count": 199,
   "metadata": {},
   "outputs": [],
   "source": [
    "dict_newcomer_nodes_by_year_quarter = earliest_publication.groupby(\"year_month\")[\"author_id\"].apply(set).to_dict()"
   ]
  },
  {
   "cell_type": "code",
   "execution_count": 200,
   "metadata": {},
   "outputs": [],
   "source": [
    "dict_portion_new_nodes_in_gcc_by_quarter = return_dict(article_authors_filtered2)"
   ]
  },
  {
   "cell_type": "code",
   "execution_count": 201,
   "metadata": {},
   "outputs": [
    {
     "data": {
      "image/png": "[encoded data removed]",
      "text/plain": [
       "<Figure size 432x288 with 2 Axes>"
      ]
     },
     "metadata": {
      "needs_background": "light"
     },
     "output_type": "display_data"
    }
   ],
   "source": [
    "fig,ax = plt.subplots(\n",
    "    #figsize = (24,5)\n",
    ")\n",
    "# Percent handheld\n",
    "keys, values = zip(*sorted(dict_portion_new_nodes_in_gcc_by_quarter.items()))\n",
    "keys, values = np.array(keys), np.array(values)\n",
    "boolean = (keys < '2020-23') & (keys >= '2020-01')\n",
    "values = values[boolean]; keys = keys[boolean]\n",
    "ax.plot(keys, values)\n",
    "plt.ylim(0, 1.01)\n",
    "ax_newcomer_count = ax.twinx()\n",
    "\n",
    "# Newcomper counts\n",
    "keys2, values2 = zip(*sorted({k:len(v) for k,v in dict_newcomer_nodes_by_year_quarter.items()}.items()))\n",
    "keys2, values2 = np.array(keys2), np.array(values2)\n",
    "boolean = (keys2 < '2020-23') & (keys2 >= '2020-01')\n",
    "values2 = values2[boolean]; keys2 = keys2[boolean]\n",
    "ax_newcomer_count.bar(keys2, values2 ,width=0.6, alpha=0.3, zorder = 5, color = \"#fdbb84\")\n",
    "\n",
    "\n",
    "#ax_newcomer_count.set_yscale('log')\n",
    "xticks = [keys for e, keys in enumerate(keys) if e % 10 == 0]\n",
    "xtick_indices = [e for e, keys in enumerate(keys) if e % 10 == 0]\n",
    "plt.xticks(xtick_indices, xticks, rotation=45)\n",
    "\n",
    "ax.grid(alpha = 0.3)\n",
    "#fig.tight_layout()\n",
    "ax.set_xlabel(\"Week of Year\")\n",
    "ax.set_ylabel(\"Proportion of Newcomers Handheld\")\n",
    "ax_newcomer_count.set_ylabel(\"Count of Newcomers\")\n",
    "plt.tight_layout()\n",
    "plt.savefig(\"../outputs/figures/%s_monthly_portion_of_newcomers_part_of_gcc.png\" %output_code, dpi = 150)\n",
    "plt.show()"
   ]
  },
  {
   "cell_type": "code",
   "execution_count": 202,
   "metadata": {},
   "outputs": [
    {
     "name": "stdout",
     "output_type": "stream",
     "text": [
      "0.7589563056533444\n",
      "0.4188142563399589\n"
     ]
    }
   ],
   "source": [
    "n = 10\n",
    "first_nwks = np.sum((values * values2)[0:n]) / np.sum(values2[0:n])\n",
    "print(first_nwks)\n",
    "\n",
    "n0, n1 = 14, len(values2)\n",
    "nwks = np.sum((values * values2)[n0:n1]) / np.sum(values2[n0:n1])\n",
    "print(nwks)"
   ]
  },
  {
   "cell_type": "markdown",
   "metadata": {},
   "source": [
    "Numerical analysis"
   ]
  },
  {
   "cell_type": "code",
   "execution_count": null,
   "metadata": {},
   "outputs": [],
   "source": []
  }
 ],
 "metadata": {
  "kernelspec": {
   "display_name": "Python 3",
   "language": "python",
   "name": "python3"
  },
  "language_info": {
   "codemirror_mode": {
    "name": "ipython",
    "version": 3
   },
   "file_extension": ".py",
   "mimetype": "text/x-python",
   "name": "python",
   "nbconvert_exporter": "python",
   "pygments_lexer": "ipython3",
   "version": "3.7.3"
  }
 },
 "nbformat": 4,
 "nbformat_minor": 4
}
