{
 "cells": [
  {
   "cell_type": "code",
   "execution_count": 44,
   "metadata": {},
   "outputs": [],
   "source": [
    "import networkx as nx\n",
    "import json\n",
    "import numpy as np\n",
    "import matplotlib.pyplot as plt\n",
    "import pickle\n",
    "from operator import itemgetter\n",
    "import datetime"
   ]
  },
  {
   "cell_type": "markdown",
   "metadata": {},
   "source": [
    "### This analyses is done on a network by removing the anomalous paper that creates at least 1877 degree to the participants, paper_id \"1vimqhdp\""
   ]
  },
  {
   "cell_type": "markdown",
   "metadata": {},
   "source": [
    "That [anomalous paper](https://ccforum.biomedcentral.com/articles/10.1186/s13054-016-1208-6) was just actually a list of participants of a symposium titled \"36th International Symposium on Intensive Care and Emergency Medicine: Brussels, Belgium. 15-18 March 2016\". Because each participant is connected by a link, each of the participatns in that symposium had a degree as high as 1877 (the number of participants in tha symposium), which is unintended for our analysis. "
   ]
  },
  {
   "cell_type": "code",
   "execution_count": 2,
   "metadata": {},
   "outputs": [],
   "source": [
    "with open(\"../outputs/untracked/00_01_02_node_id_to_first_publish_date.pickle\", \"rb\") as f:\n",
    "    node_id_to_first_publish_date = pickle.load(f)"
   ]
  },
  {
   "cell_type": "code",
   "execution_count": 3,
   "metadata": {},
   "outputs": [],
   "source": [
    "with open(\"../outputs/untracked/00_01_02_node_id_to_node_name.json\", \"r\") as f:\n",
    "    node_id_to_node_name = json.load(f)"
   ]
  },
  {
   "cell_type": "markdown",
   "metadata": {},
   "source": [
    "Reading the edgelist of the co-authorship network we built with script 00_01_01_create_network_of_authors.py"
   ]
  },
  {
   "cell_type": "code",
   "execution_count": 4,
   "metadata": {},
   "outputs": [],
   "source": [
    "with open(\"../outputs/untracked/00_01_02_coauthorship_network.edgelist\", \"r\") as f:\n",
    "    G = nx.read_weighted_edgelist(f)"
   ]
  },
  {
   "cell_type": "code",
   "execution_count": 5,
   "metadata": {},
   "outputs": [],
   "source": [
    "# %%\n",
    "## First plot the degree distribution\n",
    "def get_binned_distribution(values, number_of_bins = 20, log_binning = False, base = 10):\n",
    "    lower_bound = min(values)\n",
    "    upper_bound = max(values)\n",
    "    \n",
    "    if log_binning:\n",
    "        lower_bound = np.log10(lower_bound)/ np.log10(base) if lower_bound > 0 else -1\n",
    "        upper_bound = np.log10(upper_bound)/ np.log10(base)\n",
    "        bins = np.logspace(lower_bound, upper_bound, number_of_bins, base=base)\n",
    "    else:\n",
    "        bins = np.linspace(lower_bound, upper_bound, number_of_bins)\n",
    "    \n",
    "    ## Calculating histogram\n",
    "    y, _ = np.histogram(values, bins = bins, density = True)\n",
    "    \n",
    "    ## Now for each y we need to compute the value of x\n",
    "    x = bins[1:] - np.diff(bins) / 2.\n",
    "    \n",
    "    # sanity check for probability density\n",
    "    #print sum(map(lambda a,b : a*b, [bins[i] - bins[i-1] for i in xrange(1,len(bins))],y))\n",
    "    \n",
    "    return x,y\n",
    "\n",
    "def plot(x,y, log = True, xsize = 8, ysize = 3, xlabel=\"\", ylabel=\"\"):\n",
    "    plotted_figure = plt.figure(figsize = (xsize,ysize))\n",
    "    if log:\n",
    "        plt.loglog(x,y, '.')\n",
    "    else:\n",
    "        plt.plot(x,y, '.')\n",
    "    plt.xlabel(xlabel)\n",
    "    plt.ylabel(ylabel)\n",
    "    plt.show()\n",
    "    return plotted_figure"
   ]
  },
  {
   "cell_type": "markdown",
   "metadata": {},
   "source": [
    "#### First the number of nodes"
   ]
  },
  {
   "cell_type": "code",
   "execution_count": 6,
   "metadata": {},
   "outputs": [
    {
     "name": "stdout",
     "output_type": "stream",
     "text": [
      "43004\n"
     ]
    }
   ],
   "source": [
    "N = G.number_of_nodes()\n",
    "print(N)"
   ]
  },
  {
   "cell_type": "markdown",
   "metadata": {},
   "source": [
    "#### Number of edges"
   ]
  },
  {
   "cell_type": "code",
   "execution_count": 7,
   "metadata": {},
   "outputs": [
    {
     "name": "stdout",
     "output_type": "stream",
     "text": [
      "367465\n"
     ]
    }
   ],
   "source": [
    "E = G.number_of_edges()\n",
    "print(E)"
   ]
  },
  {
   "cell_type": "markdown",
   "metadata": {},
   "source": [
    "#### Density"
   ]
  },
  {
   "cell_type": "code",
   "execution_count": 8,
   "metadata": {},
   "outputs": [
    {
     "name": "stdout",
     "output_type": "stream",
     "text": [
      "0.0003974096132706815\n"
     ]
    }
   ],
   "source": [
    "D = E/(N*(N-1)/2.)\n",
    "print(D)"
   ]
  },
  {
   "cell_type": "markdown",
   "metadata": {},
   "source": [
    "### Largest degree nodes"
   ]
  },
  {
   "cell_type": "markdown",
   "metadata": {},
   "source": [
    "Top 20 high degree nodes"
   ]
  },
  {
   "cell_type": "code",
   "execution_count": 23,
   "metadata": {},
   "outputs": [
    {
     "data": {
      "text/plain": [
       "[('6421', 'christian drosten', 745),\n",
       " ('42018', 'yan li', 712),\n",
       " ('31627', 'ralph s baric', 564),\n",
       " ('36635', 'suxiang tong', 531),\n",
       " ('21566', 'kwokyung yuen', 524),\n",
       " ('41054', 'xiaoyan lu', 517),\n",
       " ('18043', 'jing wang', 445),\n",
       " ('3309', 'azaibi tamin', 416),\n",
       " ('35985', 'stanley perlman', 407),\n",
       " ('36166', 'stephen lindstrom', 396),\n",
       " ('22948', 'lindsay kim', 396),\n",
       " ('36558', 'susan i gerber', 391),\n",
       " ('4486', 'brian rha', 391),\n",
       " ('4440', 'brett whitaker', 387),\n",
       " ('34902', 'shifaq kamili', 381),\n",
       " ('24798', 'marcel a muller', 379),\n",
       " ('3701', 'bart l haagmans', 377),\n",
       " ('18058', 'jing zhang', 372),\n",
       " ('16587', 'janna murray', 367),\n",
       " ('22760', 'lijuan wang', 367),\n",
       " ('4473', 'brian lynch', 367),\n",
       " ('39519', 'wei zhang', 366),\n",
       " ('26085', 'megan wallace', 366),\n",
       " ('42812', 'ying tao', 364),\n",
       " ('18488', 'joana lively', 350),\n",
       " ('20906', 'kevin chathamstephens', 350),\n",
       " ('21956', 'lakshmi malapati', 350),\n",
       " ('24680', 'manisha patel', 350),\n",
       " ('28718', 'nora chea', 349),\n",
       " ('39065', 'volker thiel', 342)]"
      ]
     },
     "execution_count": 23,
     "metadata": {},
     "output_type": "execute_result"
    }
   ],
   "source": [
    "[(node_id,node_id_to_node_name[node_id],deg) for node_id,deg in sorted(G.degree(),key = lambda x:x[1], reverse = True)][:30]"
   ]
  },
  {
   "cell_type": "markdown",
   "metadata": {},
   "source": [
    "We can see that we have recovered some important names in the literature."
   ]
  },
  {
   "cell_type": "markdown",
   "metadata": {},
   "source": [
    "Average degree"
   ]
  },
  {
   "cell_type": "code",
   "execution_count": 12,
   "metadata": {},
   "outputs": [
    {
     "name": "stdout",
     "output_type": "stream",
     "text": [
      "Average degree 17.089805599479117\n"
     ]
    }
   ],
   "source": [
    "print(\"Average degree\", sum(dict(G.degree()).values())/float(G.number_of_nodes()))"
   ]
  },
  {
   "cell_type": "markdown",
   "metadata": {},
   "source": [
    "Degree distribution"
   ]
  },
  {
   "cell_type": "code",
   "execution_count": 13,
   "metadata": {},
   "outputs": [
    {
     "data": {
      "image/png": "[encoded data removed]",
      "text/plain": [
       "<Figure size 576x216 with 1 Axes>"
      ]
     },
     "metadata": {
      "needs_background": "light"
     },
     "output_type": "display_data"
    }
   ],
   "source": [
    "x,y = get_binned_distribution(list(dict(G.degree()).values()), log_binning=True)\n",
    "_ = plot(x,y, xlabel=r\"$k$\", ylabel=r\"$p_{k}$\")"
   ]
  },
  {
   "cell_type": "markdown",
   "metadata": {},
   "source": [
    "### Lets check if the network is connected or not"
   ]
  },
  {
   "cell_type": "code",
   "execution_count": 14,
   "metadata": {},
   "outputs": [
    {
     "name": "stdout",
     "output_type": "stream",
     "text": [
      "The network is not connected\n"
     ]
    }
   ],
   "source": [
    "if nx.is_connected(G):\n",
    "    print(\"The network is connected\")\n",
    "else:\n",
    "    print(\"The network is not connected\")"
   ]
  },
  {
   "cell_type": "markdown",
   "metadata": {},
   "source": [
    "### Component sizes plot"
   ]
  },
  {
   "cell_type": "code",
   "execution_count": 29,
   "metadata": {},
   "outputs": [
    {
     "data": {
      "image/png": "[encoded data removed]",
      "text/plain": [
       "<Figure size 576x216 with 1 Axes>"
      ]
     },
     "metadata": {
      "needs_background": "light"
     },
     "output_type": "display_data"
    }
   ],
   "source": [
    "x,y = get_binned_distribution(list(map(len, nx.connected_components(G))), log_binning=True)\n",
    "_ = plot(x,y, xlabel=r\"$s$\", ylabel=r\"$p_{s}$\")"
   ]
  },
  {
   "cell_type": "markdown",
   "metadata": {},
   "source": [
    "### Getting into the giant component"
   ]
  },
  {
   "cell_type": "markdown",
   "metadata": {},
   "source": [
    "Getting the nodes in the giant component"
   ]
  },
  {
   "cell_type": "code",
   "execution_count": 34,
   "metadata": {},
   "outputs": [],
   "source": [
    "gcc_nodes = sorted(nx.connected_components(G),key = len, reverse=True)[0]"
   ]
  },
  {
   "cell_type": "markdown",
   "metadata": {},
   "source": [
    "Now getting the induced subgraph in the giant component"
   ]
  },
  {
   "cell_type": "code",
   "execution_count": 36,
   "metadata": {},
   "outputs": [],
   "source": [
    "gcc = nx.subgraph(G,gcc_nodes)"
   ]
  },
  {
   "cell_type": "markdown",
   "metadata": {},
   "source": [
    "#### Portion of nodes in the connected giant components"
   ]
  },
  {
   "cell_type": "code",
   "execution_count": 49,
   "metadata": {},
   "outputs": [
    {
     "name": "stdout",
     "output_type": "stream",
     "text": [
      "0.7234908380615757\n"
     ]
    }
   ],
   "source": [
    "print(sorted([len(x) for x in nx.connected_components(G)],reverse = True)[0] / G.number_of_nodes())"
   ]
  },
  {
   "cell_type": "markdown",
   "metadata": {},
   "source": [
    "### Pagerank for the nodes inside giant component"
   ]
  },
  {
   "cell_type": "code",
   "execution_count": 38,
   "metadata": {},
   "outputs": [],
   "source": [
    "pr_gcc = nx.pagerank(gcc)"
   ]
  },
  {
   "cell_type": "markdown",
   "metadata": {},
   "source": [
    "#### Top 20 high pagerank nodes in the giant component"
   ]
  },
  {
   "cell_type": "code",
   "execution_count": 43,
   "metadata": {},
   "outputs": [
    {
     "data": {
      "text/plain": [
       "[('6421', 'christian drosten', 0.0011737812320709651),\n",
       " ('31627', 'ralph s baric', 0.0009538775183508149),\n",
       " ('21566', 'kwokyung yuen', 0.0009030539001520056),\n",
       " ('35985', 'stanley perlman', 0.0007994833753705915),\n",
       " ('42018', 'yan li', 0.0007458736520408899),\n",
       " ('23611', 'luis enjuanes', 0.0006824644043780092),\n",
       " ('3701', 'bart l haagmans', 0.0006609249973752471),\n",
       " ('39065', 'volker thiel', 0.0005817935920803719),\n",
       " ('34888', 'shibo jiang', 0.0005699006191727787),\n",
       " ('24798', 'marcel a muller', 0.0005554939727607863),\n",
       " ('10108', 'eric j snijder', 0.0005454395509219103),\n",
       " ('36578', 'susan r weiss', 0.0005185992311019467),\n",
       " ('45164', 'ziad a memish', 0.0004980451944560327),\n",
       " ('44691', 'zhengli shi', 0.00047912930966261056),\n",
       " ('21561', 'kwokhung chan', 0.000477885695521154),\n",
       " ('39503', 'wei wang', 0.00047139271076657966),\n",
       " ('22955', 'linfa wang', 0.000460855345614719),\n",
       " ('24605', 'malik peiris', 0.00045212256676553246),\n",
       " ('39519', 'wei zhang', 0.00044063635405487315),\n",
       " ('36539', 'susan c baker', 0.00043507293361879414)]"
      ]
     },
     "execution_count": 43,
     "metadata": {},
     "output_type": "execute_result"
    }
   ],
   "source": [
    "[(node_id,node_id_to_node_name[node_id],deg) for node_id,deg in sorted(pr_gcc.items(),key = itemgetter(1), reverse= True)[:20]]"
   ]
  },
  {
   "cell_type": "markdown",
   "metadata": {},
   "source": [
    "### What proportion of the nodes that made their first publication after January 31, 2020 are part of the giant component?"
   ]
  },
  {
   "cell_type": "markdown",
   "metadata": {},
   "source": [
    "First lets explore how many nodes first published after February 1, 2020"
   ]
  },
  {
   "cell_type": "code",
   "execution_count": 47,
   "metadata": {},
   "outputs": [
    {
     "name": "stdout",
     "output_type": "stream",
     "text": [
      "12207\n"
     ]
    }
   ],
   "source": [
    "nodes_publishing_from_feb_2020 = [node_id for node_id, date in node_id_to_first_publish_date.items() if date > datetime.datetime(2020,1,31)]\n",
    "print(len(nodes_publishing_from_feb_2020))"
   ]
  },
  {
   "cell_type": "markdown",
   "metadata": {},
   "source": [
    "Portion of nodes that are in the giant component"
   ]
  },
  {
   "cell_type": "code",
   "execution_count": 48,
   "metadata": {},
   "outputs": [
    {
     "data": {
      "text/plain": [
       "0.6587204063242402"
      ]
     },
     "execution_count": 48,
     "metadata": {},
     "output_type": "execute_result"
    }
   ],
   "source": [
    "len([node for node in nodes_publishing_from_feb_2020 if node in gcc_nodes])/len(nodes_publishing_from_feb_2020)"
   ]
  },
  {
   "cell_type": "markdown",
   "metadata": {},
   "source": [
    "So total 65% of the nodes who published after January 31, 2020 are in the giant component."
   ]
  }
 ],
 "metadata": {
  "kernelspec": {
   "display_name": "Python 3",
   "language": "python",
   "name": "python3"
  },
  "language_info": {
   "codemirror_mode": {
    "name": "ipython",
    "version": 3
   },
   "file_extension": ".py",
   "mimetype": "text/x-python",
   "name": "python",
   "nbconvert_exporter": "python",
   "pygments_lexer": "ipython3",
   "version": "3.7.7"
  }
 },
 "nbformat": 4,
 "nbformat_minor": 4
}
