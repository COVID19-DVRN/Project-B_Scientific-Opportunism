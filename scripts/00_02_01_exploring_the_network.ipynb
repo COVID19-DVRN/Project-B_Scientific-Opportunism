{
 "cells": [
  {
   "cell_type": "code",
   "execution_count": 1,
   "metadata": {},
   "outputs": [],
   "source": [
    "import networkx as nx\n",
    "import json\n",
    "import numpy as np\n",
    "import matplotlib.pyplot as plt\n",
    "import pickle"
   ]
  },
  {
   "cell_type": "code",
   "execution_count": 4,
   "metadata": {},
   "outputs": [],
   "source": [
    "with open(\"../outputs/untracked/00_01_01_node_id_to_first_publish_date.pickle\", \"rb\") as f:\n",
    "    node_id_to_first_publish_date = pickle.load(f)"
   ]
  },
  {
   "cell_type": "code",
   "execution_count": 8,
   "metadata": {},
   "outputs": [],
   "source": [
    "with open(\"../outputs/untracked/00_01_01_node_id_to_node_name.json\", \"r\") as f:\n",
    "    node_id_to_node_name = json.load(f)"
   ]
  },
  {
   "cell_type": "markdown",
   "metadata": {},
   "source": [
    "Reading the edgelist of the co-authorship network we built with script 00_01_01_create_network_of_authors.py"
   ]
  },
  {
   "cell_type": "code",
   "execution_count": 10,
   "metadata": {},
   "outputs": [],
   "source": [
    "with open(\"../outputs/untracked/00_01_01_coauthorship_network.edgelist\", \"r\") as f:\n",
    "    G = nx.read_weighted_edgelist(f)"
   ]
  },
  {
   "cell_type": "code",
   "execution_count": 15,
   "metadata": {},
   "outputs": [],
   "source": [
    "# %%\n",
    "## First plot the degree distribution\n",
    "def get_binned_distribution(values, number_of_bins = 20, log_binning = False, base = 10):\n",
    "    lower_bound = min(values)\n",
    "    upper_bound = max(values)\n",
    "    \n",
    "    if log_binning:\n",
    "        lower_bound = np.log10(lower_bound)/ np.log10(base) if lower_bound > 0 else -1\n",
    "        upper_bound = np.log10(upper_bound)/ np.log10(base)\n",
    "        bins = np.logspace(lower_bound, upper_bound, number_of_bins, base=base)\n",
    "    else:\n",
    "        bins = np.linspace(lower_bound, upper_bound, number_of_bins)\n",
    "    \n",
    "    ## Calculating histogram\n",
    "    y, _ = np.histogram(values, bins = bins, density = True)\n",
    "    \n",
    "    ## Now for each y we need to compute the value of x\n",
    "    x = bins[1:] - np.diff(bins) / 2.\n",
    "    \n",
    "    # sanity check for probability density\n",
    "    #print sum(map(lambda a,b : a*b, [bins[i] - bins[i-1] for i in xrange(1,len(bins))],y))\n",
    "    \n",
    "    return x,y\n",
    "\n",
    "def plot(x,y, log = True, xsize = 8, ysize = 3, xlabel=\"\", ylabel=\"\"):\n",
    "    plotted_figure = plt.figure(figsize = (xsize,ysize))\n",
    "    if log:\n",
    "        plt.loglog(x,y, '.')\n",
    "    else:\n",
    "        plt.plot(x,y, '.')\n",
    "    plt.xlabel(xlabel)\n",
    "    plt.ylabel(ylabel)\n",
    "    plt.show()\n",
    "    return plotted_figure"
   ]
  },
  {
   "cell_type": "markdown",
   "metadata": {},
   "source": [
    "First the number of nodes"
   ]
  },
  {
   "cell_type": "code",
   "execution_count": 16,
   "metadata": {},
   "outputs": [
    {
     "name": "stdout",
     "output_type": "stream",
     "text": [
      "44857\n"
     ]
    }
   ],
   "source": [
    "N = G.number_of_nodes()\n",
    "print(N)"
   ]
  },
  {
   "cell_type": "markdown",
   "metadata": {},
   "source": [
    "Number of edges"
   ]
  },
  {
   "cell_type": "code",
   "execution_count": 19,
   "metadata": {},
   "outputs": [
    {
     "name": "stdout",
     "output_type": "stream",
     "text": [
      "2129967\n"
     ]
    }
   ],
   "source": [
    "E = G.number_of_edges()\n",
    "print(E)"
   ]
  },
  {
   "cell_type": "markdown",
   "metadata": {},
   "source": [
    "Density"
   ]
  },
  {
   "cell_type": "code",
   "execution_count": 21,
   "metadata": {},
   "outputs": [
    {
     "name": "stdout",
     "output_type": "stream",
     "text": [
      "0.0021171523089728583\n"
     ]
    }
   ],
   "source": [
    "D = E/(N*(N-1)/2.)\n",
    "print(D)"
   ]
  },
  {
   "cell_type": "markdown",
   "metadata": {},
   "source": [
    "### Largest degree"
   ]
  },
  {
   "cell_type": "code",
   "execution_count": 27,
   "metadata": {},
   "outputs": [
    {
     "name": "stdout",
     "output_type": "stream",
     "text": [
      "Largest degree ('9999', 44)\n"
     ]
    }
   ],
   "source": [
    "print(\"Largest degree\", max(dict(G.degree()).items()))"
   ]
  },
  {
   "cell_type": "code",
   "execution_count": 38,
   "metadata": {},
   "outputs": [
    {
     "data": {
      "text/plain": [
       "[('10603', 1929),\n",
       " ('15881', 1920),\n",
       " ('15668', 1908),\n",
       " ('33286', 1903),\n",
       " ('12907', 1902),\n",
       " ('29369', 1901),\n",
       " ('29199', 1889),\n",
       " ('4882', 1889),\n",
       " ('36772', 1888),\n",
       " ('41846', 1888),\n",
       " ('21914', 1887),\n",
       " ('33371', 1886),\n",
       " ('36884', 1886),\n",
       " ('33284', 1885),\n",
       " ('33071', 1883),\n",
       " ('33411', 1883),\n",
       " ('36971', 1883),\n",
       " ('398', 1883),\n",
       " ('27877', 1882),\n",
       " ('29139', 1882),\n",
       " ('19887', 1881),\n",
       " ('33405', 1881),\n",
       " ('15129', 1880),\n",
       " ('21854', 1879),\n",
       " ('197', 1878),\n",
       " ('1', 1877),\n",
       " ('102', 1877),\n",
       " ('104', 1877),\n",
       " ('10410', 1877),\n",
       " ('10413', 1877)]"
      ]
     },
     "execution_count": 38,
     "metadata": {},
     "output_type": "execute_result"
    }
   ],
   "source": [
    "sorted(G.degree(),key = lambda x:x[1], reverse = True)[:30]"
   ]
  },
  {
   "cell_type": "code",
   "execution_count": 34,
   "metadata": {},
   "outputs": [
    {
     "data": {
      "text/plain": [
       "'r calderon morales'"
      ]
     },
     "execution_count": 34,
     "metadata": {},
     "output_type": "execute_result"
    }
   ],
   "source": [
    "node_id_to_node_name['31207']"
   ]
  },
  {
   "cell_type": "markdown",
   "metadata": {},
   "source": [
    "So this symposium was leading to all the nodes haveing such high degree of 1877. Here is the symposium:\n",
    "https://ccforum.biomedcentral.com/articles/10.1186/s13054-016-1208-6?report=reader\n",
    "\n",
    "We are removing this symposium for the ease of analysis later"
   ]
  },
  {
   "cell_type": "markdown",
   "metadata": {},
   "source": [
    "Average degree"
   ]
  },
  {
   "cell_type": "code",
   "execution_count": 41,
   "metadata": {},
   "outputs": [
    {
     "name": "stdout",
     "output_type": "stream",
     "text": [
      "Average degree 94.96698397128654\n"
     ]
    }
   ],
   "source": [
    "print(\"Average degree\", sum(dict(G.degree()).values())/float(G.number_of_nodes()))"
   ]
  },
  {
   "cell_type": "markdown",
   "metadata": {},
   "source": [
    "Degree distribution"
   ]
  },
  {
   "cell_type": "code",
   "execution_count": 44,
   "metadata": {},
   "outputs": [
    {
     "data": {
      "image/png": "[encoded data removed]",
      "text/plain": [
       "<Figure size 576x216 with 1 Axes>"
      ]
     },
     "metadata": {
      "needs_background": "light"
     },
     "output_type": "display_data"
    }
   ],
   "source": [
    "x,y = get_binned_distribution(list(dict(G.degree()).values()), log_binning=True)\n",
    "_ = plot(x,y, xlabel=r\"$k$\", ylabel=r\"$p_{k}$\")"
   ]
  },
  {
   "cell_type": "markdown",
   "metadata": {},
   "source": [
    "### Lets check if the network is connected or not"
   ]
  },
  {
   "cell_type": "code",
   "execution_count": 45,
   "metadata": {},
   "outputs": [
    {
     "name": "stdout",
     "output_type": "stream",
     "text": [
      "The network is not connected\n"
     ]
    }
   ],
   "source": [
    "if nx.is_connected(G):\n",
    "    print(\"The network is connected\")\n",
    "else:\n",
    "    print(\"The network is not connected\")"
   ]
  },
  {
   "cell_type": "markdown",
   "metadata": {},
   "source": [
    "### Portion of nodes in the connected giant components"
   ]
  },
  {
   "cell_type": "code",
   "execution_count": 50,
   "metadata": {},
   "outputs": [
    {
     "name": "stdout",
     "output_type": "stream",
     "text": [
      "0.739394074503422\n"
     ]
    }
   ],
   "source": [
    "print(sorted([len(x) for x in nx.connected_components(G)],reverse = True)[0] / G.number_of_nodes())"
   ]
  },
  {
   "cell_type": "markdown",
   "metadata": {},
   "source": [
    "### We will actually do our later analyses on a network by removing the anomalous paper that creates at least 1877 degree to the participants"
   ]
  }
 ],
 "metadata": {
  "kernelspec": {
   "display_name": "Python 3",
   "language": "python",
   "name": "python3"
  },
  "language_info": {
   "codemirror_mode": {
    "name": "ipython",
    "version": 3
   },
   "file_extension": ".py",
   "mimetype": "text/x-python",
   "name": "python",
   "nbconvert_exporter": "python",
   "pygments_lexer": "ipython3",
   "version": "3.7.7"
  }
 },
 "nbformat": 4,
 "nbformat_minor": 4
}
