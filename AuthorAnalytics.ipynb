{
 "cells": [
  {
   "cell_type": "markdown",
   "metadata": {},
   "source": [
    "# Packages"
   ]
  },
  {
   "cell_type": "code",
   "execution_count": 56,
   "metadata": {},
   "outputs": [],
   "source": [
    "import pandas as pd\n",
    "import numpy as np\n",
    "import time\n",
    "import datetime\n",
    "import matplotlib.pyplot as plt\n",
    "\n",
    "pd.options.display.max_rows = 10"
   ]
  },
  {
   "cell_type": "code",
   "execution_count": 37,
   "metadata": {},
   "outputs": [],
   "source": [
    "def flatten(list_of_lists):\n",
    "    import collections\n",
    "    \n",
    "    for sublist in list_of_lists:\n",
    "        if isinstance(sublist, collections.Iterable) and not isinstance(sublist, (str, bytes)):\n",
    "            yield from flatten(sublist)\n",
    "        else:\n",
    "            yield sublist\n",
    "            \n",
    "            \n",
    "def strf_date_if_not_na(x, strftime='%Y-%m'):\n",
    "    if pd.isna(x):\n",
    "        return np.nan\n",
    "    else:\n",
    "        return x.strftime('%Y-%m')"
   ]
  },
  {
   "cell_type": "code",
   "execution_count": 3,
   "metadata": {},
   "outputs": [],
   "source": [
    "data_date = datetime.datetime(2020, 4, 11)\n",
    "disease_startdate = datetime.datetime(2019, 11, 1)"
   ]
  },
  {
   "cell_type": "markdown",
   "metadata": {},
   "source": [
    "# Subsetting and Pre-Organization"
   ]
  },
  {
   "cell_type": "code",
   "execution_count": 4,
   "metadata": {},
   "outputs": [
    {
     "name": "stdout",
     "output_type": "stream",
     "text": [
      "Number of CORD-19 rows: 51078\n",
      "Number of CORD-19 rows: 51045\n"
     ]
    }
   ],
   "source": [
    "metadata = pd.read_csv('big-data/metadata_20-04-10.csv')\n",
    "print('Number of CORD-19 rows: ' + str(len(metadata)))\n",
    "metadata = metadata.drop_duplicates(subset=['cord_uid'], keep='first') # drop the very few duplicates\n",
    "print('Number of CORD-19 rows: ' + str(len(metadata)))"
   ]
  },
  {
   "cell_type": "code",
   "execution_count": 5,
   "metadata": {
    "scrolled": true
   },
   "outputs": [
    {
     "name": "stdout",
     "output_type": "stream",
     "text": [
      "Number of CORD-19 abstracts: 42331\n",
      "Number of relevant CORD-19 rows: 11000\n"
     ]
    }
   ],
   "source": [
    "metadata = metadata[pd.isnull(metadata['abstract']) == False].reset_index(drop=True)\n",
    "print('Number of CORD-19 abstracts: ' + str(len(metadata)))\n",
    "metadata = metadata[metadata['abstract'].str.lower().str.contains(\n",
    " \"covid-19|coronavirus|coronavirus|corona virus|2019-ncov|sars-cov|mers-cov|severe acute respiratory syndrome|middle east respiratory syndrome|sars-cov-2\") | \n",
    "     metadata['abstract'].str.contains(\"MERS\")\n",
    "     ]\n",
    "metadata = metadata.reset_index(drop=True)\n",
    "print('Number of relevant CORD-19 rows: ' + str(len(metadata)))"
   ]
  },
  {
   "cell_type": "code",
   "execution_count": 6,
   "metadata": {},
   "outputs": [
    {
     "name": "stdout",
     "output_type": "stream",
     "text": [
      "Number of COVID-19 abstracts: 2481\n"
     ]
    }
   ],
   "source": [
    "metadata['covid_or_not'] = metadata['abstract'].str.contains('COVID|2019-nCoV|SARS-CoV-2')\n",
    "print('Number of COVID-19 abstracts: ' + str(sum(metadata['covid_or_not'])))"
   ]
  },
  {
   "cell_type": "markdown",
   "metadata": {},
   "source": [
    "# Author Analytics"
   ]
  },
  {
   "cell_type": "code",
   "execution_count": 7,
   "metadata": {},
   "outputs": [],
   "source": [
    "metadata['authors'] = metadata['authors'].astype(str)\n",
    "metadata['authors_split'] = metadata['authors'].apply(lambda x: x.split('; ')).tolist()"
   ]
  },
  {
   "cell_type": "code",
   "execution_count": 20,
   "metadata": {},
   "outputs": [
    {
     "name": "stdout",
     "output_type": "stream",
     "text": [
      "30.867913961410522\n"
     ]
    },
    {
     "data": {
      "text/html": [
       "<div>\n",
       "<style scoped>\n",
       "    .dataframe tbody tr th:only-of-type {\n",
       "        vertical-align: middle;\n",
       "    }\n",
       "\n",
       "    .dataframe tbody tr th {\n",
       "        vertical-align: top;\n",
       "    }\n",
       "\n",
       "    .dataframe thead th {\n",
       "        text-align: right;\n",
       "    }\n",
       "</style>\n",
       "<table border=\"1\" class=\"dataframe\">\n",
       "  <thead>\n",
       "    <tr style=\"text-align: right;\">\n",
       "      <th></th>\n",
       "      <th>cord_uid</th>\n",
       "      <th>authors</th>\n",
       "    </tr>\n",
       "  </thead>\n",
       "  <tbody>\n",
       "    <tr>\n",
       "      <th>0</th>\n",
       "      <td>fy4w7xz8</td>\n",
       "      <td>Lin, Marie</td>\n",
       "    </tr>\n",
       "    <tr>\n",
       "      <th>1</th>\n",
       "      <td>fy4w7xz8</td>\n",
       "      <td>Tseng, Hsiang-Kuang</td>\n",
       "    </tr>\n",
       "    <tr>\n",
       "      <th>2</th>\n",
       "      <td>fy4w7xz8</td>\n",
       "      <td>Trejaut, Jean A</td>\n",
       "    </tr>\n",
       "    <tr>\n",
       "      <th>3</th>\n",
       "      <td>fy4w7xz8</td>\n",
       "      <td>Lee, Hui-Lin</td>\n",
       "    </tr>\n",
       "    <tr>\n",
       "      <th>4</th>\n",
       "      <td>fy4w7xz8</td>\n",
       "      <td>Loo, Jun-Hun</td>\n",
       "    </tr>\n",
       "    <tr>\n",
       "      <th>...</th>\n",
       "      <td>...</td>\n",
       "      <td>...</td>\n",
       "    </tr>\n",
       "    <tr>\n",
       "      <th>77841</th>\n",
       "      <td>32bxx94u</td>\n",
       "      <td>Lee, Changhee</td>\n",
       "    </tr>\n",
       "    <tr>\n",
       "      <th>77842</th>\n",
       "      <td>4xhcamks</td>\n",
       "      <td>Valkó, Anna</td>\n",
       "    </tr>\n",
       "    <tr>\n",
       "      <th>77843</th>\n",
       "      <td>4xhcamks</td>\n",
       "      <td>Bálint, Ádám</td>\n",
       "    </tr>\n",
       "    <tr>\n",
       "      <th>77844</th>\n",
       "      <td>4xhcamks</td>\n",
       "      <td>Bozsa, Ágnes</td>\n",
       "    </tr>\n",
       "    <tr>\n",
       "      <th>77845</th>\n",
       "      <td>4xhcamks</td>\n",
       "      <td>Cságola, Attila</td>\n",
       "    </tr>\n",
       "  </tbody>\n",
       "</table>\n",
       "<p>77846 rows × 2 columns</p>\n",
       "</div>"
      ],
      "text/plain": [
       "       cord_uid              authors\n",
       "0      fy4w7xz8           Lin, Marie\n",
       "1      fy4w7xz8  Tseng, Hsiang-Kuang\n",
       "2      fy4w7xz8      Trejaut, Jean A\n",
       "3      fy4w7xz8         Lee, Hui-Lin\n",
       "4      fy4w7xz8         Loo, Jun-Hun\n",
       "...         ...                  ...\n",
       "77841  32bxx94u        Lee, Changhee\n",
       "77842  4xhcamks          Valkó, Anna\n",
       "77843  4xhcamks         Bálint, Ádám\n",
       "77844  4xhcamks         Bozsa, Ágnes\n",
       "77845  4xhcamks      Cságola, Attila\n",
       "\n",
       "[77846 rows x 2 columns]"
      ]
     },
     "execution_count": 20,
     "metadata": {},
     "output_type": "execute_result"
    }
   ],
   "source": [
    "t = time.time()\n",
    "\n",
    "article_authors = metadata[['cord_uid', 'authors_split']]\n",
    "article_authors = article_authors.set_index(['cord_uid'])['authors_split'].apply(pd.Series)\\\n",
    "                                         .stack()\\\n",
    "                                         .reset_index(level=1, drop=True)\n",
    "article_authors = article_authors.reset_index()\n",
    "article_authors.columns = ['cord_uid', 'authors']\n",
    "\n",
    "print(time.time() - t)\n",
    "article_authors"
   ]
  },
  {
   "cell_type": "code",
   "execution_count": 21,
   "metadata": {},
   "outputs": [
    {
     "name": "stdout",
     "output_type": "stream",
     "text": [
      "7 dates unavailable.\n",
      "710 impossible dates.\n",
      "Examples of impossible dates: \n"
     ]
    },
    {
     "data": {
      "text/html": [
       "<div>\n",
       "<style scoped>\n",
       "    .dataframe tbody tr th:only-of-type {\n",
       "        vertical-align: middle;\n",
       "    }\n",
       "\n",
       "    .dataframe tbody tr th {\n",
       "        vertical-align: top;\n",
       "    }\n",
       "\n",
       "    .dataframe thead th {\n",
       "        text-align: right;\n",
       "    }\n",
       "</style>\n",
       "<table border=\"1\" class=\"dataframe\">\n",
       "  <thead>\n",
       "    <tr style=\"text-align: right;\">\n",
       "      <th></th>\n",
       "      <th>cord_uid</th>\n",
       "      <th>authors</th>\n",
       "      <th>publish_time</th>\n",
       "      <th>converted_datetime</th>\n",
       "    </tr>\n",
       "  </thead>\n",
       "  <tbody>\n",
       "    <tr>\n",
       "      <th>77129</th>\n",
       "      <td>1ei79lna</td>\n",
       "      <td>Turner, Andrew J.</td>\n",
       "      <td>2020-04-30</td>\n",
       "      <td>2020-04-30</td>\n",
       "    </tr>\n",
       "    <tr>\n",
       "      <th>77130</th>\n",
       "      <td>vxywolgo</td>\n",
       "      <td>Giombini, Emanuela</td>\n",
       "      <td>2020-04-30</td>\n",
       "      <td>2020-04-30</td>\n",
       "    </tr>\n",
       "    <tr>\n",
       "      <th>77131</th>\n",
       "      <td>vxywolgo</td>\n",
       "      <td>Giansante, Filippo</td>\n",
       "      <td>2020-04-30</td>\n",
       "      <td>2020-04-30</td>\n",
       "    </tr>\n",
       "    <tr>\n",
       "      <th>77132</th>\n",
       "      <td>vxywolgo</td>\n",
       "      <td>Giancola, Maria Letizia</td>\n",
       "      <td>2020-04-30</td>\n",
       "      <td>2020-04-30</td>\n",
       "    </tr>\n",
       "    <tr>\n",
       "      <th>77133</th>\n",
       "      <td>vxywolgo</td>\n",
       "      <td>Garotto, Gabriele</td>\n",
       "      <td>2020-04-30</td>\n",
       "      <td>2020-04-30</td>\n",
       "    </tr>\n",
       "    <tr>\n",
       "      <th>...</th>\n",
       "      <td>...</td>\n",
       "      <td>...</td>\n",
       "      <td>...</td>\n",
       "      <td>...</td>\n",
       "    </tr>\n",
       "    <tr>\n",
       "      <th>77834</th>\n",
       "      <td>juxlh8xb</td>\n",
       "      <td>Meng, Haotian</td>\n",
       "      <td>2020-12-31</td>\n",
       "      <td>2020-12-31</td>\n",
       "    </tr>\n",
       "    <tr>\n",
       "      <th>77835</th>\n",
       "      <td>juxlh8xb</td>\n",
       "      <td>Huang, Jingze</td>\n",
       "      <td>2020-12-31</td>\n",
       "      <td>2020-12-31</td>\n",
       "    </tr>\n",
       "    <tr>\n",
       "      <th>77836</th>\n",
       "      <td>juxlh8xb</td>\n",
       "      <td>Meng, Cui</td>\n",
       "      <td>2020-12-31</td>\n",
       "      <td>2020-12-31</td>\n",
       "    </tr>\n",
       "    <tr>\n",
       "      <th>77837</th>\n",
       "      <td>wyz5jyjh</td>\n",
       "      <td>Qiu, Zhongmin</td>\n",
       "      <td>2020-12-31</td>\n",
       "      <td>2020-12-31</td>\n",
       "    </tr>\n",
       "    <tr>\n",
       "      <th>77838</th>\n",
       "      <td>wyz5jyjh</td>\n",
       "      <td>Bai, Li</td>\n",
       "      <td>2020-12-31</td>\n",
       "      <td>2020-12-31</td>\n",
       "    </tr>\n",
       "  </tbody>\n",
       "</table>\n",
       "<p>710 rows × 4 columns</p>\n",
       "</div>"
      ],
      "text/plain": [
       "       cord_uid                  authors publish_time converted_datetime\n",
       "77129  1ei79lna        Turner, Andrew J.   2020-04-30         2020-04-30\n",
       "77130  vxywolgo       Giombini, Emanuela   2020-04-30         2020-04-30\n",
       "77131  vxywolgo       Giansante, Filippo   2020-04-30         2020-04-30\n",
       "77132  vxywolgo  Giancola, Maria Letizia   2020-04-30         2020-04-30\n",
       "77133  vxywolgo        Garotto, Gabriele   2020-04-30         2020-04-30\n",
       "...         ...                      ...          ...                ...\n",
       "77834  juxlh8xb            Meng, Haotian   2020-12-31         2020-12-31\n",
       "77835  juxlh8xb            Huang, Jingze   2020-12-31         2020-12-31\n",
       "77836  juxlh8xb                Meng, Cui   2020-12-31         2020-12-31\n",
       "77837  wyz5jyjh            Qiu, Zhongmin   2020-12-31         2020-12-31\n",
       "77838  wyz5jyjh                  Bai, Li   2020-12-31         2020-12-31\n",
       "\n",
       "[710 rows x 4 columns]"
      ]
     },
     "execution_count": 21,
     "metadata": {},
     "output_type": "execute_result"
    }
   ],
   "source": [
    "article_authors = article_authors.merge(metadata[['cord_uid', 'publish_time']], how='left')\n",
    "article_authors['converted_datetime'] = pd.to_datetime(article_authors['publish_time'], errors='coerce') # if format fails to parse, return NaT\n",
    "article_authors = article_authors.sort_values('converted_datetime').reset_index(drop=True)\n",
    "print(str(sum(pd.isna(article_authors['converted_datetime'] ))) + ' dates unavailable.')\n",
    "print(str(sum(article_authors['converted_datetime'][\n",
    "    pd.isna(article_authors['converted_datetime']) == False] > data_date)) + ' impossible dates.')\n",
    "print('Examples of impossible dates: ')\n",
    "article_authors[article_authors['converted_datetime'] > data_date]"
   ]
  },
  {
   "cell_type": "code",
   "execution_count": 95,
   "metadata": {},
   "outputs": [
    {
     "name": "stdout",
     "output_type": "stream",
     "text": [
      "17769 authors had their first coronavirus publication after 2019-11-01 00:00:00\n",
      "19251 unique authors published after 2019-11-01 00:00:00\n"
     ]
    }
   ],
   "source": [
    "earliest_publication = article_authors[['authors', 'converted_datetime']].groupby('authors')\\\n",
    "            .min()[['converted_datetime']].reset_index()\n",
    "earliest_publication.rename(columns={'converted_datetime' : 'earliest_date'}, inplace=True)\n",
    "earliest_publication['earliest_month'] = earliest_publication['earliest_date'].map(lambda x: strf_date_if_not_na(x))\n",
    "print(str(sum(earliest_publication['earliest_date'] > disease_startdate)) +\n",
    "      ' authors had their first coronavirus publication after ' + str(disease_startdate))\n",
    "\n",
    "author_publications_late = article_authors[article_authors['converted_datetime'] > disease_startdate]\n",
    "print(str(len(np.unique(author_publications_late['authors']))) + ' unique authors published after ' + str(disease_startdate))"
   ]
  },
  {
   "cell_type": "code",
   "execution_count": 40,
   "metadata": {},
   "outputs": [],
   "source": [
    "article_authors['year_month'] = article_authors['converted_datetime'].map(lambda x: strf_date_if_not_na(x))"
   ]
  },
  {
   "cell_type": "code",
   "execution_count": 113,
   "metadata": {},
   "outputs": [
    {
     "data": {
      "image/png": "[encoded data removed]",
      "text/plain": [
       "<Figure size 432x288 with 1 Axes>"
      ]
     },
     "metadata": {
      "needs_background": "light"
     },
     "output_type": "display_data"
    },
    {
     "data": {
      "image/png": "[encoded data removed]",
      "text/plain": [
       "<Figure size 432x288 with 1 Axes>"
      ]
     },
     "metadata": {
      "needs_background": "light"
     },
     "output_type": "display_data"
    },
    {
     "data": {
      "image/png": "[encoded data removed]",
      "text/plain": [
       "<Figure size 432x288 with 1 Axes>"
      ]
     },
     "metadata": {
      "needs_background": "light"
     },
     "output_type": "display_data"
    }
   ],
   "source": [
    "unique_authors_per_month = article_authors[['authors', 'year_month']].groupby('year_month').nunique()['authors']\n",
    "unique_authors_per_month = unique_authors_per_month.reset_index()\n",
    "new_authors_by_month = pd.DataFrame(earliest_publication[['authors', 'earliest_month']].\\\n",
    "                 groupby('earliest_month').count()['authors']).reset_index()\n",
    "new_authors_by_month\n",
    "\n",
    "\n",
    "unique_authors_per_month_subset = unique_authors_per_month[unique_authors_per_month['year_month'] >= '2019-01']\n",
    "new_authors_by_month_subset = new_authors_by_month[new_authors_by_month['earliest_month'] >= '2019-01']\n",
    "plt.bar(np.arange(len(unique_authors_per_month_subset)), unique_authors_per_month_subset['authors'])\n",
    "plt.bar(np.arange(len(new_authors_by_month_subset)), new_authors_by_month_subset['authors'])\n",
    "interval = 2\n",
    "plt.xticks(np.arange(0, len(unique_authors_per_month_subset), interval),\n",
    "           [a for e, a in enumerate(unique_authors_per_month_subset['year_month']) if e % interval == 0], \n",
    "           rotation=45)\n",
    "# plt.yscale('log')\n",
    "plt.ylabel('Count of Unique Authors (log scale)')\n",
    "plt.show()\n",
    "\n",
    "\n",
    "def plot_stuff(unique_authors_per_month_subset, new_authors_by_month_subset):\n",
    "    plt.bar(np.arange(len(new_authors_by_month_subset)), unique_authors_per_month_subset['authors'], label='Old Authors')\n",
    "    plt.bar(np.arange(len(new_authors_by_month_subset)), new_authors_by_month_subset['authors'], label='New Authors')\n",
    "    interval = 2\n",
    "    plt.xticks(np.arange(0, len(unique_authors_per_month_subset), interval),\n",
    "               [a for e, a in enumerate(unique_authors_per_month_subset['year_month']) if e % interval == 0], \n",
    "               rotation=45)\n",
    "    # plt.yscale('log')\n",
    "    plt.ylabel('Count of Unique Authors')\n",
    "    plt.legend()\n",
    "    \n",
    "unique_authors_per_month_subset = unique_authors_per_month[(unique_authors_per_month['year_month'] >= '2019-01') & \n",
    "                     (unique_authors_per_month['year_month'] <= '2019-12')]\n",
    "new_authors_by_month_subset = new_authors_by_month_subset[(new_authors_by_month_subset['earliest_month'] >= '2019-01') & \n",
    "                     (new_authors_by_month_subset['earliest_month'] <= '2019-12')]\n",
    "plot_stuff(unique_authors_per_month_subset, new_authors_by_month_subset)\n",
    "plt.title('Earlier Year')\n",
    "plt.show()\n",
    "\n",
    "\n",
    "unique_authors_per_month_subset = unique_authors_per_month[(unique_authors_per_month['year_month'] >= '2019-12')]\n",
    "new_authors_by_month_subset = new_authors_by_month[(new_authors_by_month['earliest_month'] >= '2019-12')]\n",
    "plot_stuff(unique_authors_per_month_subset, new_authors_by_month_subset)\n",
    "plt.title('COVID Year')\n",
    "plt.show()"
   ]
  },
  {
   "cell_type": "code",
   "execution_count": 92,
   "metadata": {},
   "outputs": [
    {
     "data": {
      "text/plain": [
       "320"
      ]
     },
     "execution_count": 92,
     "metadata": {},
     "output_type": "execute_result"
    }
   ],
   "source": [
    "new_authors_by_month = pd.DataFrame(earliest_publication[['authors', 'earliest_date']].\\\n",
    "                 groupby('earliest_date').nunique()['authors']).reset_index()\n",
    "new_authors_by_month_subset = new_authors_by_month[new_authors_by_month['earliest_date'] >= '2019-01-01']\n",
    "len(new_authors_by_month_subset)"
   ]
  },
  {
   "cell_type": "markdown",
   "metadata": {},
   "source": [
    "Relevant information:\n",
    "* Authors\n",
    "* Dates\n",
    "* 50k authors to check against"
   ]
  },
  {
   "cell_type": "code",
   "execution_count": null,
   "metadata": {},
   "outputs": [],
   "source": []
  }
 ],
 "metadata": {
  "kernelspec": {
   "display_name": "Python 3",
   "language": "python",
   "name": "python3"
  },
  "language_info": {
   "codemirror_mode": {
    "name": "ipython",
    "version": 3
   },
   "file_extension": ".py",
   "mimetype": "text/x-python",
   "name": "python",
   "nbconvert_exporter": "python",
   "pygments_lexer": "ipython3",
   "version": "3.7.3"
  }
 },
 "nbformat": 4,
 "nbformat_minor": 2
}
