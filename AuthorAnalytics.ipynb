{
 "cells": [
  {
   "cell_type": "markdown",
   "metadata": {},
   "source": [
    "# Presets"
   ]
  },
  {
   "cell_type": "markdown",
   "metadata": {},
   "source": [
    "## Packages"
   ]
  },
  {
   "cell_type": "code",
   "execution_count": 1,
   "metadata": {},
   "outputs": [],
   "source": [
    "import pandas as pd\n",
    "import numpy as np\n",
    "import time\n",
    "import datetime\n",
    "import matplotlib.pyplot as plt\n",
    "import copy\n",
    "#import difflib\n",
    "import string_grouper\n",
    "\n",
    "import unicodedata\n",
    "from difflib import SequenceMatcher\n",
    "from heapq import nlargest as _nlargest\n",
    "\n",
    "\n",
    "\n",
    "pd.options.display.max_rows = 10"
   ]
  },
  {
   "cell_type": "markdown",
   "metadata": {},
   "source": [
    "## Functions"
   ]
  },
  {
   "cell_type": "code",
   "execution_count": 2,
   "metadata": {},
   "outputs": [],
   "source": [
    "def flatten(list_of_lists):\n",
    "    import collections\n",
    "    \n",
    "    for sublist in list_of_lists:\n",
    "        if isinstance(sublist, collections.Iterable) and not isinstance(sublist, (str, bytes)):\n",
    "            yield from flatten(sublist)\n",
    "        else:\n",
    "            yield sublist\n",
    "            \n",
    "            \n",
    "def strf_date_if_not_na(x, strftime='%Y-%m'):\n",
    "    if pd.isna(x):\n",
    "        return np.nan\n",
    "    else:\n",
    "        return x.strftime('%Y-%m')"
   ]
  },
  {
   "cell_type": "code",
   "execution_count": 3,
   "metadata": {},
   "outputs": [],
   "source": [
    "def get_close_matches_indexes(word, possibilities, n=10**10, cutoff=0.6):\n",
    "    \"\"\"\n",
    "    Use SequenceMatcher to return a list of the indexes of the best \n",
    "    \"good enough\" matches. word is a sequence for which close matches \n",
    "    are desired (typically a string).\n",
    "    possibilities is a list of sequences against which to match word\n",
    "    (typically a list of strings).\n",
    "    Optional arg n (default is large) is the maximum number of close matches to\n",
    "    return.  n must be > 0.\n",
    "    Optional arg cutoff (default 0.6) is a float in [0, 1].  Possibilities\n",
    "    that don't score at least that similar to word are ignored.\n",
    "    \n",
    "    Source: https://stackoverflow.com/questions/50861237/is-there-an-alternative-to-difflib-get-close-matches-that-returns-indexes-l\n",
    "    \"\"\"\n",
    "\n",
    "    if not n >  0:\n",
    "        raise ValueError(\"n must be > 0: %r\" % (n,))\n",
    "    if not 0.0 <= cutoff <= 1.0:\n",
    "        raise ValueError(\"cutoff must be in [0.0, 1.0]: %r\" % (cutoff,))\n",
    "    result = []\n",
    "    s = SequenceMatcher()\n",
    "    s.set_seq2(word)\n",
    "    for idx, x in enumerate(possibilities):\n",
    "        s.set_seq1(x)\n",
    "        if s.real_quick_ratio() >= cutoff and \\\n",
    "           s.quick_ratio() >= cutoff and \\\n",
    "           s.ratio() >= cutoff:\n",
    "            result.append((s.ratio(), idx))\n",
    "\n",
    "    # Move the best scorers to head of list\n",
    "    result = _nlargest(n, result)\n",
    "\n",
    "    # Strip scores for the best n matches\n",
    "    return [x for score, x in result]"
   ]
  },
  {
   "cell_type": "code",
   "execution_count": null,
   "metadata": {},
   "outputs": [],
   "source": [
    "def remove_accents(input_str):\n",
    "    nfkd_form = unicodedata.normalize('NFKD', input_str)\n",
    "    only_ascii = nfkd_form.encode('ASCII', 'ignore')\n",
    "    return only_ascii"
   ]
  },
  {
   "cell_type": "code",
   "execution_count": 62,
   "metadata": {},
   "outputs": [],
   "source": [
    "def map_values(theArray, dictionary, verbose=False, increment=0.1):\n",
    "    \"\"\"\n",
    "    Given an array, map new values according to a dictionary.\n",
    "    \"\"\"\n",
    "    newArray = copy.deepcopy(theArray)\n",
    "    dict_len = len(dictionary); checkpoint = 0; counter = 0\n",
    "    for k, v in dictionary.items():\n",
    "        newArray[theArray==k] = v\n",
    "        \n",
    "        if verbose:\n",
    "            counter += 1; progress = counter / len(dictionary)\n",
    "            if progress > checkpoint:\n",
    "                checkpoint += increment\n",
    "                print('Progress: ' + str(round(progress * 100, 1)) + '%')\n",
    "    return newArray"
   ]
  },
  {
   "cell_type": "markdown",
   "metadata": {},
   "source": [
    "## Key values"
   ]
  },
  {
   "cell_type": "code",
   "execution_count": 4,
   "metadata": {},
   "outputs": [],
   "source": [
    "data_date = datetime.datetime(2020, 4, 11)\n",
    "disease_startdate = datetime.datetime(2019, 11, 1)"
   ]
  },
  {
   "cell_type": "markdown",
   "metadata": {},
   "source": [
    "# Subsetting and Pre-Organization"
   ]
  },
  {
   "cell_type": "markdown",
   "metadata": {},
   "source": [
    "Find only unique articles (disambiguated by CORD-19 as shown by cord_uid)."
   ]
  },
  {
   "cell_type": "code",
   "execution_count": 5,
   "metadata": {},
   "outputs": [
    {
     "name": "stdout",
     "output_type": "stream",
     "text": [
      "Number of CORD-19 rows: 51078\n",
      "Number of CORD-19 rows: 51045\n"
     ]
    }
   ],
   "source": [
    "metadata = pd.read_csv('big-data/metadata_20-04-10.csv')\n",
    "print('Number of CORD-19 rows: ' + str(len(metadata)))\n",
    "metadata = metadata.drop_duplicates(subset=['cord_uid'], keep='first') # drop the very few duplicates\n",
    "print('Number of CORD-19 rows: ' + str(len(metadata)))"
   ]
  },
  {
   "cell_type": "markdown",
   "metadata": {},
   "source": [
    "Find articles relevant to coronaviruses by whether they mention a coronavirus in the abstract."
   ]
  },
  {
   "cell_type": "code",
   "execution_count": 6,
   "metadata": {
    "scrolled": true
   },
   "outputs": [
    {
     "name": "stdout",
     "output_type": "stream",
     "text": [
      "Number of CORD-19 abstracts: 42331\n",
      "Number of relevant CORD-19 rows: 11000\n"
     ]
    }
   ],
   "source": [
    "metadata = metadata[pd.isnull(metadata['abstract']) == False].reset_index(drop=True)\n",
    "print('Number of CORD-19 abstracts: ' + str(len(metadata)))\n",
    "metadata = metadata[metadata['abstract'].str.lower().str.contains(\n",
    " \"covid-19|coronavirus|coronavirus|corona virus|2019-ncov|sars-cov|mers-cov|severe acute respiratory syndrome|middle east respiratory syndrome|sars-cov-2\") | \n",
    "     metadata['abstract'].str.contains(\"MERS\")\n",
    "     ]\n",
    "metadata = metadata.reset_index(drop=True)\n",
    "print('Number of relevant CORD-19 rows: ' + str(len(metadata)))"
   ]
  },
  {
   "cell_type": "code",
   "execution_count": 7,
   "metadata": {},
   "outputs": [
    {
     "name": "stdout",
     "output_type": "stream",
     "text": [
      "Number of COVID-19 abstracts: 2481\n"
     ]
    }
   ],
   "source": [
    "metadata['covid_or_not'] = metadata['abstract'].str.contains('COVID|2019-nCoV|SARS-CoV-2')\n",
    "print('Number of COVID-19 abstracts: ' + str(sum(metadata['covid_or_not'])))"
   ]
  },
  {
   "cell_type": "markdown",
   "metadata": {},
   "source": [
    "# Author Analytics"
   ]
  },
  {
   "cell_type": "markdown",
   "metadata": {},
   "source": [
    "## Identifying unique authors"
   ]
  },
  {
   "cell_type": "markdown",
   "metadata": {},
   "source": [
    "Find separate authors in each article, and store that information."
   ]
  },
  {
   "cell_type": "code",
   "execution_count": 8,
   "metadata": {},
   "outputs": [],
   "source": [
    "metadata['authors'] = metadata['authors'].astype(str)\n",
    "metadata['authors_split'] = metadata['authors'].apply(lambda x: x.split('; ')).tolist()"
   ]
  },
  {
   "cell_type": "code",
   "execution_count": 9,
   "metadata": {},
   "outputs": [
    {
     "name": "stdout",
     "output_type": "stream",
     "text": [
      "20.227184772491455\n"
     ]
    },
    {
     "data": {
      "text/html": [
       "<div>\n",
       "<style scoped>\n",
       "    .dataframe tbody tr th:only-of-type {\n",
       "        vertical-align: middle;\n",
       "    }\n",
       "\n",
       "    .dataframe tbody tr th {\n",
       "        vertical-align: top;\n",
       "    }\n",
       "\n",
       "    .dataframe thead th {\n",
       "        text-align: right;\n",
       "    }\n",
       "</style>\n",
       "<table border=\"1\" class=\"dataframe\">\n",
       "  <thead>\n",
       "    <tr style=\"text-align: right;\">\n",
       "      <th></th>\n",
       "      <th>cord_uid</th>\n",
       "      <th>authors</th>\n",
       "    </tr>\n",
       "  </thead>\n",
       "  <tbody>\n",
       "    <tr>\n",
       "      <th>0</th>\n",
       "      <td>fy4w7xz8</td>\n",
       "      <td>Lin, Marie</td>\n",
       "    </tr>\n",
       "    <tr>\n",
       "      <th>1</th>\n",
       "      <td>fy4w7xz8</td>\n",
       "      <td>Tseng, Hsiang-Kuang</td>\n",
       "    </tr>\n",
       "    <tr>\n",
       "      <th>2</th>\n",
       "      <td>fy4w7xz8</td>\n",
       "      <td>Trejaut, Jean A</td>\n",
       "    </tr>\n",
       "    <tr>\n",
       "      <th>3</th>\n",
       "      <td>fy4w7xz8</td>\n",
       "      <td>Lee, Hui-Lin</td>\n",
       "    </tr>\n",
       "    <tr>\n",
       "      <th>4</th>\n",
       "      <td>fy4w7xz8</td>\n",
       "      <td>Loo, Jun-Hun</td>\n",
       "    </tr>\n",
       "    <tr>\n",
       "      <th>...</th>\n",
       "      <td>...</td>\n",
       "      <td>...</td>\n",
       "    </tr>\n",
       "    <tr>\n",
       "      <th>77841</th>\n",
       "      <td>32bxx94u</td>\n",
       "      <td>Lee, Changhee</td>\n",
       "    </tr>\n",
       "    <tr>\n",
       "      <th>77842</th>\n",
       "      <td>4xhcamks</td>\n",
       "      <td>Valkó, Anna</td>\n",
       "    </tr>\n",
       "    <tr>\n",
       "      <th>77843</th>\n",
       "      <td>4xhcamks</td>\n",
       "      <td>Bálint, Ádám</td>\n",
       "    </tr>\n",
       "    <tr>\n",
       "      <th>77844</th>\n",
       "      <td>4xhcamks</td>\n",
       "      <td>Bozsa, Ágnes</td>\n",
       "    </tr>\n",
       "    <tr>\n",
       "      <th>77845</th>\n",
       "      <td>4xhcamks</td>\n",
       "      <td>Cságola, Attila</td>\n",
       "    </tr>\n",
       "  </tbody>\n",
       "</table>\n",
       "<p>77846 rows × 2 columns</p>\n",
       "</div>"
      ],
      "text/plain": [
       "       cord_uid              authors\n",
       "0      fy4w7xz8           Lin, Marie\n",
       "1      fy4w7xz8  Tseng, Hsiang-Kuang\n",
       "2      fy4w7xz8      Trejaut, Jean A\n",
       "3      fy4w7xz8         Lee, Hui-Lin\n",
       "4      fy4w7xz8         Loo, Jun-Hun\n",
       "...         ...                  ...\n",
       "77841  32bxx94u        Lee, Changhee\n",
       "77842  4xhcamks          Valkó, Anna\n",
       "77843  4xhcamks         Bálint, Ádám\n",
       "77844  4xhcamks         Bozsa, Ágnes\n",
       "77845  4xhcamks      Cságola, Attila\n",
       "\n",
       "[77846 rows x 2 columns]"
      ]
     },
     "execution_count": 9,
     "metadata": {},
     "output_type": "execute_result"
    }
   ],
   "source": [
    "t = time.time()\n",
    "\n",
    "article_authors = metadata[['cord_uid', 'authors_split']]\n",
    "article_authors = article_authors.set_index(['cord_uid'])['authors_split'].apply(pd.Series)\\\n",
    "                                         .stack()\\\n",
    "                                         .reset_index(level=1, drop=True)\n",
    "article_authors = article_authors.reset_index()\n",
    "article_authors.columns = ['cord_uid', 'authors']\n",
    "\n",
    "print(time.time() - t)\n",
    "article_authors"
   ]
  },
  {
   "cell_type": "markdown",
   "metadata": {},
   "source": [
    "### Author Disambiguation"
   ]
  },
  {
   "cell_type": "markdown",
   "metadata": {},
   "source": [
    "Process author names in numerous ways, related to character case, last name/first name format, punctuation, character accents, etc."
   ]
  },
  {
   "cell_type": "code",
   "execution_count": 55,
   "metadata": {},
   "outputs": [
    {
     "name": "stdout",
     "output_type": "stream",
     "text": [
      "49897 unique author names .\n",
      "49347 unique author names (lower case).\n",
      "47003 unique author names (punctuation).\n",
      "45498 unique author names (first/surname ordering).\n",
      "45344 unique author names (accented characters).\n",
      "Special cases: there are 17 author names with more than 1 comma.\n",
      "There are 9452 author names with no comma.\n",
      "6 iterations of space eliminator\n",
      "45342 unique processed author names (whitespace elimination).\n"
     ]
    },
    {
     "data": {
      "text/html": [
       "<div>\n",
       "<style scoped>\n",
       "    .dataframe tbody tr th:only-of-type {\n",
       "        vertical-align: middle;\n",
       "    }\n",
       "\n",
       "    .dataframe tbody tr th {\n",
       "        vertical-align: top;\n",
       "    }\n",
       "\n",
       "    .dataframe thead th {\n",
       "        text-align: right;\n",
       "    }\n",
       "</style>\n",
       "<table border=\"1\" class=\"dataframe\">\n",
       "  <thead>\n",
       "    <tr style=\"text-align: right;\">\n",
       "      <th></th>\n",
       "      <th>author</th>\n",
       "      <th>processed_author</th>\n",
       "    </tr>\n",
       "  </thead>\n",
       "  <tbody>\n",
       "    <tr>\n",
       "      <th>0</th>\n",
       "      <td>@CDCgov</td>\n",
       "      <td>cdcgov</td>\n",
       "    </tr>\n",
       "    <tr>\n",
       "      <th>1</th>\n",
       "      <td>A Mesut Erzurumluoglu</td>\n",
       "      <td>a mesut erzurumluoglu</td>\n",
       "    </tr>\n",
       "    <tr>\n",
       "      <th>2</th>\n",
       "      <td>A Sapru</td>\n",
       "      <td>a sapru</td>\n",
       "    </tr>\n",
       "    <tr>\n",
       "      <th>3</th>\n",
       "      <td>A Sarah Walker</td>\n",
       "      <td>a sarah walker</td>\n",
       "    </tr>\n",
       "    <tr>\n",
       "      <th>4</th>\n",
       "      <td>A Sette</td>\n",
       "      <td>a sette</td>\n",
       "    </tr>\n",
       "    <tr>\n",
       "      <th>...</th>\n",
       "      <td>...</td>\n",
       "      <td>...</td>\n",
       "    </tr>\n",
       "    <tr>\n",
       "      <th>49892</th>\n",
       "      <td>Štumpa, A.</td>\n",
       "      <td>a stumpa</td>\n",
       "    </tr>\n",
       "    <tr>\n",
       "      <th>49893</th>\n",
       "      <td>Życińska, K.</td>\n",
       "      <td>k zycinska</td>\n",
       "    </tr>\n",
       "    <tr>\n",
       "      <th>49894</th>\n",
       "      <td>Žigon, Nina</td>\n",
       "      <td>nina zigon</td>\n",
       "    </tr>\n",
       "    <tr>\n",
       "      <th>49895</th>\n",
       "      <td>Кatosova, Lubov К.</td>\n",
       "      <td>lubov atosova</td>\n",
       "    </tr>\n",
       "    <tr>\n",
       "      <th>49896</th>\n",
       "      <td>Кim, Svetlana S.</td>\n",
       "      <td>svetlana s im</td>\n",
       "    </tr>\n",
       "  </tbody>\n",
       "</table>\n",
       "<p>49897 rows × 2 columns</p>\n",
       "</div>"
      ],
      "text/plain": [
       "                      author       processed_author\n",
       "0                    @CDCgov                 cdcgov\n",
       "1      A Mesut Erzurumluoglu  a mesut erzurumluoglu\n",
       "2                    A Sapru                a sapru\n",
       "3             A Sarah Walker         a sarah walker\n",
       "4                    A Sette                a sette\n",
       "...                      ...                    ...\n",
       "49892             Štumpa, A.               a stumpa\n",
       "49893           Życińska, K.             k zycinska\n",
       "49894            Žigon, Nina             nina zigon\n",
       "49895     Кatosova, Lubov К.          lubov atosova\n",
       "49896       Кim, Svetlana S.          svetlana s im\n",
       "\n",
       "[49897 rows x 2 columns]"
      ]
     },
     "execution_count": 55,
     "metadata": {},
     "output_type": "execute_result"
    }
   ],
   "source": [
    "def status_update(column, details=''):\n",
    "    print(str(len(np.unique(column))) + ' unique author names ' + details + '.')\n",
    "\n",
    "# Lower case, firstname-lastname format, remove punctuation\n",
    "unique_authors = pd.DataFrame(np.unique(article_authors['authors']), columns=['author'])\n",
    "status_update(unique_authors['author'], details='')\n",
    "\n",
    "unique_authors['lower_author'] = unique_authors['author'].str.lower()\n",
    "status_update(unique_authors['lower_author'], details='(lower case)')\n",
    "\n",
    "unique_authors['comma_count'] = unique_authors['author'].str.count(',')\n",
    "unique_authors['processed_author'] = unique_authors['lower_author'].str.split(', ')\n",
    "unique_authors['processed_author'] = unique_authors['processed_author'].apply(\n",
    "    lambda x: x[1] + ' ' + x[0] if len(x) > 1 else x[0])\n",
    "status_update(unique_authors['processed_author'], details='(punctuation)')\n",
    "\n",
    "unique_authors['processed_author'] = unique_authors['processed_author'].str.replace('[^\\w\\s]','')\n",
    "status_update(unique_authors['processed_author'], details='(first/surname ordering)')\n",
    "\n",
    "# Here, in rare cases, characters are deleted outright; I believe, however, this creates\n",
    "# more consistencies than inconsistencies\n",
    "unique_authors['processed_author'] = unique_authors['processed_author'].str.normalize('NFKD')\\\n",
    "        .str.encode('ascii', errors='ignore')\\\n",
    "        .str.decode('utf-8') \n",
    "status_update(unique_authors['processed_author'], details='(accented characters)')\n",
    "\n",
    "\n",
    "# Count special cases.\n",
    "print('Special cases: there are ' + str(sum(unique_authors['comma_count'] > 1)) + ' author names with more than 1 comma.')\n",
    "print('There are ' + str(sum(unique_authors['comma_count'] == 0)) + ' author names with no comma.')\n",
    "\n",
    "unique_authors = unique_authors[['author', 'processed_author']]\n",
    "\n",
    "# Delete excess spaces\n",
    "length_sum = 0; counter = 0\n",
    "while length_sum != np.sum(unique_authors['processed_author'].str.len()):\n",
    "    length_sum = np.sum(unique_authors['processed_author'].str.len())\n",
    "    unique_authors['processed_author'] = unique_authors['processed_author'].str.lstrip()\n",
    "    unique_authors['processed_author'] = unique_authors['processed_author'].str.rstrip()\n",
    "    unique_authors['processed_author'] = unique_authors['processed_author'].str.replace(\"  \", \" \") # drop multi-space\n",
    "    counter += 1\n",
    "print(str(counter) + ' iterations of space eliminator')\n",
    "print(str(len(np.unique(unique_authors['processed_author']))) +\n",
    "      ' unique processed author names (whitespace elimination).')\n",
    "\n",
    "unique_authors"
   ]
  },
  {
   "cell_type": "markdown",
   "metadata": {},
   "source": [
    "Experiments with super-fast string matching using **string_grouper** package suggest that it's not a good idea to use a fuzzy search on the processed names alone. One-character changes can change people's names, making it counterproductive to look for misspellings."
   ]
  },
  {
   "cell_type": "code",
   "execution_count": 49,
   "metadata": {},
   "outputs": [
    {
     "name": "stdout",
     "output_type": "stream",
     "text": [
      "3.0870907306671143\n"
     ]
    }
   ],
   "source": [
    "t = time.time()\n",
    "matches = string_grouper.match_strings(unique_authors['processed_author'])\n",
    "print(time.time() - t)\n",
    "\n",
    "# # matches = matches.sort_values('similarity')\n",
    "# subset = matches[(matches['similarity'] > 0.98) & (matches['similarity'] < 0.99)]\n",
    "# subset.to_csv('big-data\\matches_small.csv', index=False)"
   ]
  },
  {
   "cell_type": "markdown",
   "metadata": {},
   "source": [
    "This is the beginning of some code to perform a refined fuzzy-search disambiguation. We aim to find perfect matches of authors' last names and among those for each author, find near-matches for text not associated with a last name. This hasn't been finished and so it's not clear whether this is effective or if it'll make the analytics worse."
   ]
  },
  {
   "cell_type": "code",
   "execution_count": 46,
   "metadata": {},
   "outputs": [],
   "source": [
    "# def grab_all_except_last_item(lst): \n",
    "#     return_string = ''\n",
    "#     for e, item in enumerate(lst):\n",
    "#         if e == len(lst) - 1:\n",
    "#             break\n",
    "#         return_string += item + ' '\n",
    "#     return_string = return_string[0:len(return_string) - 1]\n",
    "#     return return_string\n",
    "\n",
    "# unique_authors['lastname'] = unique_authors['processed_author'].str.split(' ').map(lambda x: x[len(x) - 1])\n",
    "# unique_authors['othername'] = unique_authors['processed_author'].str.\\\n",
    "#         split(' ').map(lambda x: grab_all_except_last_item(x))"
   ]
  },
  {
   "cell_type": "markdown",
   "metadata": {},
   "source": [
    "#### Finalize author key"
   ]
  },
  {
   "cell_type": "markdown",
   "metadata": {},
   "source": [
    "Creating unique integer author IDs for each unique author. Note: this is a pretty slow process (takes ~6 minutes), and it's possible that processed string of an author name could itself serve as an ID. So it's not entirely clear how this is necessary, unless there are possible plans to change which column is used as the key. In this case, a constant 'author_id' column is useful."
   ]
  },
  {
   "cell_type": "code",
   "execution_count": 66,
   "metadata": {
    "scrolled": true
   },
   "outputs": [
    {
     "name": "stdout",
     "output_type": "stream",
     "text": [
      "Progress: 0.0%\n",
      "Progress: 1.0%\n",
      "Progress: 2.0%\n",
      "Progress: 3.0%\n",
      "Progress: 4.0%\n",
      "Progress: 5.0%\n",
      "Progress: 6.0%\n",
      "Progress: 7.0%\n",
      "Progress: 8.0%\n",
      "Progress: 9.0%\n",
      "Progress: 10.0%\n",
      "Progress: 11.0%\n",
      "Progress: 12.0%\n",
      "Progress: 13.0%\n",
      "Progress: 14.0%\n",
      "Progress: 15.0%\n",
      "Progress: 16.0%\n",
      "Progress: 17.0%\n",
      "Progress: 18.0%\n",
      "Progress: 19.0%\n",
      "Progress: 20.0%\n",
      "Progress: 21.0%\n",
      "Progress: 22.0%\n",
      "Progress: 23.0%\n",
      "Progress: 24.0%\n",
      "Progress: 25.0%\n",
      "Progress: 26.0%\n",
      "Progress: 27.0%\n",
      "Progress: 28.0%\n",
      "Progress: 29.0%\n",
      "Progress: 30.0%\n",
      "Progress: 31.0%\n",
      "Progress: 32.0%\n",
      "Progress: 33.0%\n",
      "Progress: 34.0%\n",
      "Progress: 35.0%\n",
      "Progress: 36.0%\n",
      "Progress: 37.0%\n",
      "Progress: 38.0%\n",
      "Progress: 39.0%\n",
      "Progress: 40.0%\n",
      "Progress: 41.0%\n",
      "Progress: 42.0%\n",
      "Progress: 43.0%\n",
      "Progress: 44.0%\n",
      "Progress: 45.0%\n",
      "Progress: 46.0%\n",
      "Progress: 47.0%\n",
      "Progress: 48.0%\n",
      "Progress: 49.0%\n",
      "Progress: 50.0%\n",
      "Progress: 51.0%\n",
      "Progress: 52.0%\n",
      "Progress: 53.0%\n",
      "Progress: 54.0%\n",
      "Progress: 55.0%\n",
      "Progress: 56.0%\n",
      "Progress: 57.0%\n",
      "Progress: 58.0%\n",
      "Progress: 59.0%\n",
      "Progress: 60.0%\n",
      "Progress: 61.0%\n",
      "Progress: 62.0%\n",
      "Progress: 63.0%\n",
      "Progress: 64.0%\n",
      "Progress: 65.0%\n",
      "Progress: 66.0%\n",
      "Progress: 67.0%\n",
      "Progress: 68.0%\n",
      "Progress: 69.0%\n",
      "Progress: 70.0%\n",
      "Progress: 71.0%\n",
      "Progress: 72.0%\n",
      "Progress: 73.0%\n",
      "Progress: 74.0%\n",
      "Progress: 75.0%\n",
      "Progress: 76.0%\n",
      "Progress: 77.0%\n",
      "Progress: 78.0%\n",
      "Progress: 79.0%\n",
      "Progress: 80.0%\n",
      "Progress: 81.0%\n",
      "Progress: 82.0%\n",
      "Progress: 83.0%\n",
      "Progress: 84.0%\n",
      "Progress: 85.0%\n",
      "Progress: 86.0%\n",
      "Progress: 87.0%\n",
      "Progress: 88.0%\n",
      "Progress: 89.0%\n",
      "Progress: 90.0%\n",
      "Progress: 91.0%\n",
      "Progress: 92.0%\n",
      "Progress: 93.0%\n",
      "Progress: 94.0%\n",
      "Progress: 95.0%\n",
      "Progress: 96.0%\n",
      "Progress: 97.0%\n",
      "Progress: 98.0%\n",
      "Progress: 99.0%\n",
      "377.6907203197479 seconds\n"
     ]
    }
   ],
   "source": [
    "unique_processed_authors = np.unique(unique_authors['processed_author'])\n",
    "author_id_dict = {}\n",
    "for e, author in enumerate(unique_processed_authors):\n",
    "    author_id_dict.update({author : e})\n",
    "    \n",
    "t = time.time()\n",
    "unique_authors['author_id'] = unique_authors['processed_author']\n",
    "unique_authors['author_id'] = map_values(\n",
    "    unique_authors['author_id'], author_id_dict,\n",
    "    verbose=True, increment=0.01).astype(int)\n",
    "print(str(time.time() - t) + ' seconds')"
   ]
  },
  {
   "cell_type": "markdown",
   "metadata": {},
   "source": [
    "Merge author key back into article_authors"
   ]
  },
  {
   "cell_type": "code",
   "execution_count": 77,
   "metadata": {},
   "outputs": [
    {
     "data": {
      "text/html": [
       "<div>\n",
       "<style scoped>\n",
       "    .dataframe tbody tr th:only-of-type {\n",
       "        vertical-align: middle;\n",
       "    }\n",
       "\n",
       "    .dataframe tbody tr th {\n",
       "        vertical-align: top;\n",
       "    }\n",
       "\n",
       "    .dataframe thead th {\n",
       "        text-align: right;\n",
       "    }\n",
       "</style>\n",
       "<table border=\"1\" class=\"dataframe\">\n",
       "  <thead>\n",
       "    <tr style=\"text-align: right;\">\n",
       "      <th></th>\n",
       "      <th>cord_uid</th>\n",
       "      <th>authors</th>\n",
       "      <th>processed_author</th>\n",
       "      <th>author_id</th>\n",
       "    </tr>\n",
       "  </thead>\n",
       "  <tbody>\n",
       "    <tr>\n",
       "      <th>0</th>\n",
       "      <td>fy4w7xz8</td>\n",
       "      <td>Lin, Marie</td>\n",
       "      <td>marie lin</td>\n",
       "      <td>25150</td>\n",
       "    </tr>\n",
       "    <tr>\n",
       "      <th>1</th>\n",
       "      <td>fy4w7xz8</td>\n",
       "      <td>Tseng, Hsiang-Kuang</td>\n",
       "      <td>hsiangkuang tseng</td>\n",
       "      <td>14474</td>\n",
       "    </tr>\n",
       "    <tr>\n",
       "      <th>2</th>\n",
       "      <td>fy4w7xz8</td>\n",
       "      <td>Trejaut, Jean A</td>\n",
       "      <td>jean a trejaut</td>\n",
       "      <td>16735</td>\n",
       "    </tr>\n",
       "    <tr>\n",
       "      <th>3</th>\n",
       "      <td>fy4w7xz8</td>\n",
       "      <td>Lee, Hui-Lin</td>\n",
       "      <td>huilin lee</td>\n",
       "      <td>14841</td>\n",
       "    </tr>\n",
       "    <tr>\n",
       "      <th>4</th>\n",
       "      <td>fy4w7xz8</td>\n",
       "      <td>Loo, Jun-Hun</td>\n",
       "      <td>junhun loo</td>\n",
       "      <td>19646</td>\n",
       "    </tr>\n",
       "    <tr>\n",
       "      <th>...</th>\n",
       "      <td>...</td>\n",
       "      <td>...</td>\n",
       "      <td>...</td>\n",
       "      <td>...</td>\n",
       "    </tr>\n",
       "    <tr>\n",
       "      <th>77841</th>\n",
       "      <td>32bxx94u</td>\n",
       "      <td>Lee, Changhee</td>\n",
       "      <td>changhee lee</td>\n",
       "      <td>5568</td>\n",
       "    </tr>\n",
       "    <tr>\n",
       "      <th>77842</th>\n",
       "      <td>4xhcamks</td>\n",
       "      <td>Valkó, Anna</td>\n",
       "      <td>anna valko</td>\n",
       "      <td>2592</td>\n",
       "    </tr>\n",
       "    <tr>\n",
       "      <th>77843</th>\n",
       "      <td>4xhcamks</td>\n",
       "      <td>Bálint, Ádám</td>\n",
       "      <td>adam balint</td>\n",
       "      <td>827</td>\n",
       "    </tr>\n",
       "    <tr>\n",
       "      <th>77844</th>\n",
       "      <td>4xhcamks</td>\n",
       "      <td>Bozsa, Ágnes</td>\n",
       "      <td>agnes bozsa</td>\n",
       "      <td>967</td>\n",
       "    </tr>\n",
       "    <tr>\n",
       "      <th>77845</th>\n",
       "      <td>4xhcamks</td>\n",
       "      <td>Cságola, Attila</td>\n",
       "      <td>attila csagola</td>\n",
       "      <td>3189</td>\n",
       "    </tr>\n",
       "  </tbody>\n",
       "</table>\n",
       "<p>77846 rows × 4 columns</p>\n",
       "</div>"
      ],
      "text/plain": [
       "       cord_uid              authors   processed_author  author_id\n",
       "0      fy4w7xz8           Lin, Marie          marie lin      25150\n",
       "1      fy4w7xz8  Tseng, Hsiang-Kuang  hsiangkuang tseng      14474\n",
       "2      fy4w7xz8      Trejaut, Jean A     jean a trejaut      16735\n",
       "3      fy4w7xz8         Lee, Hui-Lin         huilin lee      14841\n",
       "4      fy4w7xz8         Loo, Jun-Hun         junhun loo      19646\n",
       "...         ...                  ...                ...        ...\n",
       "77841  32bxx94u        Lee, Changhee       changhee lee       5568\n",
       "77842  4xhcamks          Valkó, Anna         anna valko       2592\n",
       "77843  4xhcamks         Bálint, Ádám        adam balint        827\n",
       "77844  4xhcamks         Bozsa, Ágnes        agnes bozsa        967\n",
       "77845  4xhcamks      Cságola, Attila     attila csagola       3189\n",
       "\n",
       "[77846 rows x 4 columns]"
      ]
     },
     "execution_count": 77,
     "metadata": {},
     "output_type": "execute_result"
    }
   ],
   "source": [
    "article_authors = article_authors.merge(\n",
    "    unique_authors, how='left', left_on='authors', right_on='author')\n",
    "del article_authors['author']\n",
    "article_authors"
   ]
  },
  {
   "cell_type": "code",
   "execution_count": null,
   "metadata": {},
   "outputs": [],
   "source": [
    "# # use this code at any time to reset article_authors\n",
    "# article_authors = article_authors[['cord_uid', 'authors']]"
   ]
  },
  {
   "cell_type": "markdown",
   "metadata": {},
   "source": [
    "## Time analytics"
   ]
  },
  {
   "cell_type": "markdown",
   "metadata": {},
   "source": [
    "Get date-time information and preprocess it"
   ]
  },
  {
   "cell_type": "code",
   "execution_count": 81,
   "metadata": {},
   "outputs": [
    {
     "name": "stdout",
     "output_type": "stream",
     "text": [
      "7 dates unavailable.\n",
      "710 impossible dates.\n",
      "Examples of impossible dates: \n"
     ]
    },
    {
     "data": {
      "text/html": [
       "<div>\n",
       "<style scoped>\n",
       "    .dataframe tbody tr th:only-of-type {\n",
       "        vertical-align: middle;\n",
       "    }\n",
       "\n",
       "    .dataframe tbody tr th {\n",
       "        vertical-align: top;\n",
       "    }\n",
       "\n",
       "    .dataframe thead th {\n",
       "        text-align: right;\n",
       "    }\n",
       "</style>\n",
       "<table border=\"1\" class=\"dataframe\">\n",
       "  <thead>\n",
       "    <tr style=\"text-align: right;\">\n",
       "      <th></th>\n",
       "      <th>cord_uid</th>\n",
       "      <th>authors</th>\n",
       "      <th>processed_author</th>\n",
       "      <th>author_id</th>\n",
       "      <th>publish_time</th>\n",
       "      <th>converted_datetime</th>\n",
       "    </tr>\n",
       "  </thead>\n",
       "  <tbody>\n",
       "    <tr>\n",
       "      <th>77129</th>\n",
       "      <td>1ei79lna</td>\n",
       "      <td>Turner, Andrew J.</td>\n",
       "      <td>andrew j turner</td>\n",
       "      <td>2329</td>\n",
       "      <td>2020-04-30</td>\n",
       "      <td>2020-04-30</td>\n",
       "    </tr>\n",
       "    <tr>\n",
       "      <th>77130</th>\n",
       "      <td>vxywolgo</td>\n",
       "      <td>Giombini, Emanuela</td>\n",
       "      <td>emanuela giombini</td>\n",
       "      <td>9873</td>\n",
       "      <td>2020-04-30</td>\n",
       "      <td>2020-04-30</td>\n",
       "    </tr>\n",
       "    <tr>\n",
       "      <th>77131</th>\n",
       "      <td>vxywolgo</td>\n",
       "      <td>Giansante, Filippo</td>\n",
       "      <td>filippo giansante</td>\n",
       "      <td>11102</td>\n",
       "      <td>2020-04-30</td>\n",
       "      <td>2020-04-30</td>\n",
       "    </tr>\n",
       "    <tr>\n",
       "      <th>77132</th>\n",
       "      <td>vxywolgo</td>\n",
       "      <td>Giancola, Maria Letizia</td>\n",
       "      <td>maria letizia giancola</td>\n",
       "      <td>25046</td>\n",
       "      <td>2020-04-30</td>\n",
       "      <td>2020-04-30</td>\n",
       "    </tr>\n",
       "    <tr>\n",
       "      <th>77133</th>\n",
       "      <td>vxywolgo</td>\n",
       "      <td>Garotto, Gabriele</td>\n",
       "      <td>gabriele garotto</td>\n",
       "      <td>11794</td>\n",
       "      <td>2020-04-30</td>\n",
       "      <td>2020-04-30</td>\n",
       "    </tr>\n",
       "    <tr>\n",
       "      <th>...</th>\n",
       "      <td>...</td>\n",
       "      <td>...</td>\n",
       "      <td>...</td>\n",
       "      <td>...</td>\n",
       "      <td>...</td>\n",
       "      <td>...</td>\n",
       "    </tr>\n",
       "    <tr>\n",
       "      <th>77834</th>\n",
       "      <td>juxlh8xb</td>\n",
       "      <td>Meng, Haotian</td>\n",
       "      <td>haotian meng</td>\n",
       "      <td>13572</td>\n",
       "      <td>2020-12-31</td>\n",
       "      <td>2020-12-31</td>\n",
       "    </tr>\n",
       "    <tr>\n",
       "      <th>77835</th>\n",
       "      <td>juxlh8xb</td>\n",
       "      <td>Huang, Jingze</td>\n",
       "      <td>jingze huang</td>\n",
       "      <td>18192</td>\n",
       "      <td>2020-12-31</td>\n",
       "      <td>2020-12-31</td>\n",
       "    </tr>\n",
       "    <tr>\n",
       "      <th>77836</th>\n",
       "      <td>juxlh8xb</td>\n",
       "      <td>Meng, Cui</td>\n",
       "      <td>cui meng</td>\n",
       "      <td>7256</td>\n",
       "      <td>2020-12-31</td>\n",
       "      <td>2020-12-31</td>\n",
       "    </tr>\n",
       "    <tr>\n",
       "      <th>77837</th>\n",
       "      <td>wyz5jyjh</td>\n",
       "      <td>Qiu, Zhongmin</td>\n",
       "      <td>zhongmin qiu</td>\n",
       "      <td>45068</td>\n",
       "      <td>2020-12-31</td>\n",
       "      <td>2020-12-31</td>\n",
       "    </tr>\n",
       "    <tr>\n",
       "      <th>77838</th>\n",
       "      <td>wyz5jyjh</td>\n",
       "      <td>Bai, Li</td>\n",
       "      <td>li bai</td>\n",
       "      <td>22467</td>\n",
       "      <td>2020-12-31</td>\n",
       "      <td>2020-12-31</td>\n",
       "    </tr>\n",
       "  </tbody>\n",
       "</table>\n",
       "<p>710 rows × 6 columns</p>\n",
       "</div>"
      ],
      "text/plain": [
       "       cord_uid                  authors        processed_author  author_id  \\\n",
       "77129  1ei79lna        Turner, Andrew J.         andrew j turner       2329   \n",
       "77130  vxywolgo       Giombini, Emanuela       emanuela giombini       9873   \n",
       "77131  vxywolgo       Giansante, Filippo       filippo giansante      11102   \n",
       "77132  vxywolgo  Giancola, Maria Letizia  maria letizia giancola      25046   \n",
       "77133  vxywolgo        Garotto, Gabriele        gabriele garotto      11794   \n",
       "...         ...                      ...                     ...        ...   \n",
       "77834  juxlh8xb            Meng, Haotian            haotian meng      13572   \n",
       "77835  juxlh8xb            Huang, Jingze            jingze huang      18192   \n",
       "77836  juxlh8xb                Meng, Cui                cui meng       7256   \n",
       "77837  wyz5jyjh            Qiu, Zhongmin            zhongmin qiu      45068   \n",
       "77838  wyz5jyjh                  Bai, Li                  li bai      22467   \n",
       "\n",
       "      publish_time converted_datetime  \n",
       "77129   2020-04-30         2020-04-30  \n",
       "77130   2020-04-30         2020-04-30  \n",
       "77131   2020-04-30         2020-04-30  \n",
       "77132   2020-04-30         2020-04-30  \n",
       "77133   2020-04-30         2020-04-30  \n",
       "...            ...                ...  \n",
       "77834   2020-12-31         2020-12-31  \n",
       "77835   2020-12-31         2020-12-31  \n",
       "77836   2020-12-31         2020-12-31  \n",
       "77837   2020-12-31         2020-12-31  \n",
       "77838   2020-12-31         2020-12-31  \n",
       "\n",
       "[710 rows x 6 columns]"
      ]
     },
     "execution_count": 81,
     "metadata": {},
     "output_type": "execute_result"
    }
   ],
   "source": [
    "article_authors = article_authors.merge(metadata[['cord_uid', 'publish_time']], how='left')\n",
    "article_authors['converted_datetime'] = pd.to_datetime(article_authors['publish_time'], errors='coerce') # if format fails to parse, return NaT\n",
    "article_authors = article_authors.sort_values('converted_datetime').reset_index(drop=True)\n",
    "print(str(sum(pd.isna(article_authors['converted_datetime'] ))) + ' dates unavailable.')\n",
    "print(str(sum(article_authors['converted_datetime'][\n",
    "    pd.isna(article_authors['converted_datetime']) == False] > data_date)) + ' impossible dates.')\n",
    "print('Examples of impossible dates: ')\n",
    "article_authors[article_authors['converted_datetime'] > data_date]"
   ]
  },
  {
   "cell_type": "code",
   "execution_count": 98,
   "metadata": {},
   "outputs": [],
   "source": [
    "# # output the data if needed\n",
    "# article_authors.to_csv('big-data/article-authors_04-27.csv', sep='|', index=False)"
   ]
  },
  {
   "cell_type": "markdown",
   "metadata": {},
   "source": [
    "Identify the earliest publication of each author. Some other notes on code chunk below.\n",
    "\n",
    "Results before author name disambiguation:\n",
    "* 17769 authors had their first coronavirus publication after 2019-11-01 00:00:00\n",
    "* 19251 unique authors published after 2019-11-01 00:00:0\n",
    "\n",
    "For results after author name disambiguation, see below."
   ]
  },
  {
   "cell_type": "code",
   "execution_count": 89,
   "metadata": {
    "scrolled": true
   },
   "outputs": [
    {
     "name": "stdout",
     "output_type": "stream",
     "text": [
      "15011 authors had their first coronavirus publication after 2019-11-01 00:00:00\n",
      "17299 unique authors published after 2019-11-01 00:00:00\n"
     ]
    }
   ],
   "source": [
    "earliest_publication = article_authors[['author_id', 'converted_datetime']].groupby('author_id')\\\n",
    "            .min()[['converted_datetime']].reset_index()\n",
    "earliest_publication.rename(columns={'converted_datetime' : 'earliest_date'}, inplace=True)\n",
    "earliest_publication['earliest_month'] = earliest_publication['earliest_date'].map(lambda x: strf_date_if_not_na(x))\n",
    "print(str(sum(earliest_publication['earliest_date'] > disease_startdate)) +\n",
    "      ' authors had their first coronavirus publication after ' + str(disease_startdate))\n",
    "\n",
    "author_publications_late = article_authors[article_authors['converted_datetime'] > disease_startdate]\n",
    "print(str(len(np.unique(author_publications_late['author_id']))) + ' unique authors published after ' + str(disease_startdate))"
   ]
  },
  {
   "cell_type": "markdown",
   "metadata": {},
   "source": [
    "Get year-month of each publication. Then produce graphics over time."
   ]
  },
  {
   "cell_type": "code",
   "execution_count": 90,
   "metadata": {},
   "outputs": [],
   "source": [
    "article_authors['year_month'] = article_authors['converted_datetime'].map(lambda x: strf_date_if_not_na(x))"
   ]
  },
  {
   "cell_type": "code",
   "execution_count": 91,
   "metadata": {},
   "outputs": [
    {
     "data": {
      "image/png": "[encoded data removed]",
      "text/plain": [
       "<Figure size 432x288 with 1 Axes>"
      ]
     },
     "metadata": {
      "needs_background": "light"
     },
     "output_type": "display_data"
    },
    {
     "data": {
      "image/png": "[encoded data removed]",
      "text/plain": [
       "<Figure size 432x288 with 1 Axes>"
      ]
     },
     "metadata": {
      "needs_background": "light"
     },
     "output_type": "display_data"
    },
    {
     "data": {
      "image/png": "[encoded data removed]",
      "text/plain": [
       "<Figure size 432x288 with 1 Axes>"
      ]
     },
     "metadata": {
      "needs_background": "light"
     },
     "output_type": "display_data"
    }
   ],
   "source": [
    "unique_authors_per_month = article_authors[['author_id', 'year_month']].groupby('year_month').nunique()['author_id']\n",
    "unique_authors_per_month = unique_authors_per_month.reset_index()\n",
    "new_authors_by_month = pd.DataFrame(earliest_publication[['author_id', 'earliest_month']].\\\n",
    "                 groupby('earliest_month').count()['author_id']).reset_index()\n",
    "new_authors_by_month\n",
    "\n",
    "\n",
    "unique_authors_per_month_subset = unique_authors_per_month[unique_authors_per_month['year_month'] >= '2019-01']\n",
    "new_authors_by_month_subset = new_authors_by_month[new_authors_by_month['earliest_month'] >= '2019-01']\n",
    "plt.bar(np.arange(len(unique_authors_per_month_subset)), unique_authors_per_month_subset['author_id'])\n",
    "plt.bar(np.arange(len(new_authors_by_month_subset)), new_authors_by_month_subset['author_id'])\n",
    "interval = 2\n",
    "plt.xticks(np.arange(0, len(unique_authors_per_month_subset), interval),\n",
    "           [a for e, a in enumerate(unique_authors_per_month_subset['year_month']) if e % interval == 0], \n",
    "           rotation=45)\n",
    "# plt.yscale('log')\n",
    "plt.ylabel('Count of Unique Authors (log scale)')\n",
    "plt.show()\n",
    "\n",
    "\n",
    "def plot_stuff(unique_authors_per_month_subset, new_authors_by_month_subset):\n",
    "    plt.bar(np.arange(len(new_authors_by_month_subset)), unique_authors_per_month_subset['author_id'], label='Old Authors')\n",
    "    plt.bar(np.arange(len(new_authors_by_month_subset)), new_authors_by_month_subset['author_id'], label='New Authors')\n",
    "    interval = 2\n",
    "    plt.xticks(np.arange(0, len(unique_authors_per_month_subset), interval),\n",
    "               [a for e, a in enumerate(unique_authors_per_month_subset['year_month']) if e % interval == 0], \n",
    "               rotation=45)\n",
    "    # plt.yscale('log')\n",
    "    plt.ylabel('Count of Unique Authors')\n",
    "    plt.legend()\n",
    "    \n",
    "unique_authors_per_month_subset = unique_authors_per_month[(unique_authors_per_month['year_month'] >= '2019-01') & \n",
    "                     (unique_authors_per_month['year_month'] <= '2019-12')]\n",
    "new_authors_by_month_subset = new_authors_by_month_subset[(new_authors_by_month_subset['earliest_month'] >= '2019-01') & \n",
    "                     (new_authors_by_month_subset['earliest_month'] <= '2019-12')]\n",
    "plot_stuff(unique_authors_per_month_subset, new_authors_by_month_subset)\n",
    "plt.title('Earlier Year')\n",
    "plt.show()\n",
    "\n",
    "\n",
    "unique_authors_per_month_subset = unique_authors_per_month[(unique_authors_per_month['year_month'] >= '2019-12')]\n",
    "new_authors_by_month_subset = new_authors_by_month[(new_authors_by_month['earliest_month'] >= '2019-12')]\n",
    "plot_stuff(unique_authors_per_month_subset, new_authors_by_month_subset)\n",
    "plt.title('COVID Year')\n",
    "plt.show()"
   ]
  },
  {
   "cell_type": "code",
   "execution_count": 92,
   "metadata": {},
   "outputs": [
    {
     "data": {
      "text/plain": [
       "317"
      ]
     },
     "execution_count": 92,
     "metadata": {},
     "output_type": "execute_result"
    }
   ],
   "source": [
    "new_authors_by_month = pd.DataFrame(earliest_publication[['author_id', 'earliest_date']].\\\n",
    "                 groupby('earliest_date').nunique()['author_id']).reset_index()\n",
    "new_authors_by_month_subset = new_authors_by_month[new_authors_by_month['earliest_date'] >= '2019-01-01']\n",
    "len(new_authors_by_month_subset)"
   ]
  },
  {
   "cell_type": "markdown",
   "metadata": {},
   "source": [
    "Relevant information:\n",
    "* Authors\n",
    "* Dates\n",
    "* 50k authors to check against"
   ]
  }
 ],
 "metadata": {
  "kernelspec": {
   "display_name": "Python 3",
   "language": "python",
   "name": "python3"
  },
  "language_info": {
   "codemirror_mode": {
    "name": "ipython",
    "version": 3
   },
   "file_extension": ".py",
   "mimetype": "text/x-python",
   "name": "python",
   "nbconvert_exporter": "python",
   "pygments_lexer": "ipython3",
   "version": "3.7.3"
  }
 },
 "nbformat": 4,
 "nbformat_minor": 2
}
