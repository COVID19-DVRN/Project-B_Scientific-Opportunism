{
 "cells": [
  {
   "cell_type": "markdown",
   "metadata": {},
   "source": [
    "# Presets"
   ]
  },
  {
   "cell_type": "markdown",
   "metadata": {},
   "source": [
    "## Packages"
   ]
  },
  {
   "cell_type": "code",
   "execution_count": 18,
   "metadata": {},
   "outputs": [],
   "source": [
    "import pandas as pd\n",
    "import numpy as np\n",
    "import time\n",
    "import datetime\n",
    "import matplotlib.pyplot as plt\n",
    "import copy\n",
    "#import difflib\n",
    "import string_grouper\n",
    "import pickle\n",
    "\n",
    "import unicodedata\n",
    "from difflib import SequenceMatcher\n",
    "from heapq import nlargest as _nlargest\n",
    "\n",
    "\n",
    "\n",
    "pd.options.display.max_rows = 10"
   ]
  },
  {
   "cell_type": "markdown",
   "metadata": {},
   "source": [
    "## Functions"
   ]
  },
  {
   "cell_type": "code",
   "execution_count": 2,
   "metadata": {},
   "outputs": [],
   "source": [
    "def flatten(list_of_lists):\n",
    "    import collections\n",
    "    \n",
    "    for sublist in list_of_lists:\n",
    "        if isinstance(sublist, collections.Iterable) and not isinstance(sublist, (str, bytes)):\n",
    "            yield from flatten(sublist)\n",
    "        else:\n",
    "            yield sublist\n",
    "            \n",
    "            \n",
    "def strf_date_if_not_na(x, strftime='%Y-%m'):\n",
    "    if pd.isna(x):\n",
    "        return np.nan\n",
    "    else:\n",
    "        return x.strftime('%Y-%m')"
   ]
  },
  {
   "cell_type": "code",
   "execution_count": 3,
   "metadata": {},
   "outputs": [],
   "source": [
    "def get_close_matches_indexes(word, possibilities, n=10**10, cutoff=0.6):\n",
    "    \"\"\"\n",
    "    Use SequenceMatcher to return a list of the indexes of the best \n",
    "    \"good enough\" matches. word is a sequence for which close matches \n",
    "    are desired (typically a string).\n",
    "    possibilities is a list of sequences against which to match word\n",
    "    (typically a list of strings).\n",
    "    Optional arg n (default is large) is the maximum number of close matches to\n",
    "    return.  n must be > 0.\n",
    "    Optional arg cutoff (default 0.6) is a float in [0, 1].  Possibilities\n",
    "    that don't score at least that similar to word are ignored.\n",
    "    \n",
    "    Source: https://stackoverflow.com/questions/50861237/is-there-an-alternative-to-difflib-get-close-matches-that-returns-indexes-l\n",
    "    \"\"\"\n",
    "\n",
    "    if not n >  0:\n",
    "        raise ValueError(\"n must be > 0: %r\" % (n,))\n",
    "    if not 0.0 <= cutoff <= 1.0:\n",
    "        raise ValueError(\"cutoff must be in [0.0, 1.0]: %r\" % (cutoff,))\n",
    "    result = []\n",
    "    s = SequenceMatcher()\n",
    "    s.set_seq2(word)\n",
    "    for idx, x in enumerate(possibilities):\n",
    "        s.set_seq1(x)\n",
    "        if s.real_quick_ratio() >= cutoff and \\\n",
    "           s.quick_ratio() >= cutoff and \\\n",
    "           s.ratio() >= cutoff:\n",
    "            result.append((s.ratio(), idx))\n",
    "\n",
    "    # Move the best scorers to head of list\n",
    "    result = _nlargest(n, result)\n",
    "\n",
    "    # Strip scores for the best n matches\n",
    "    return [x for score, x in result]"
   ]
  },
  {
   "cell_type": "code",
   "execution_count": 4,
   "metadata": {},
   "outputs": [],
   "source": [
    "def remove_accents(input_str):\n",
    "    nfkd_form = unicodedata.normalize('NFKD', input_str)\n",
    "    only_ascii = nfkd_form.encode('ASCII', 'ignore')\n",
    "    return only_ascii"
   ]
  },
  {
   "cell_type": "code",
   "execution_count": 5,
   "metadata": {},
   "outputs": [],
   "source": [
    "def map_values(theArray, dictionary, verbose=False, increment=0.1):\n",
    "    \"\"\"\n",
    "    Given an array, map new values according to a dictionary.\n",
    "    \"\"\"\n",
    "    newArray = copy.deepcopy(theArray)\n",
    "    dict_len = len(dictionary); checkpoint = 0; counter = 0\n",
    "    for k, v in dictionary.items():\n",
    "        newArray[theArray==k] = v\n",
    "        \n",
    "        if verbose:\n",
    "            counter += 1; progress = counter / len(dictionary)\n",
    "            if progress > checkpoint:\n",
    "                checkpoint += increment\n",
    "                print('Progress: ' + str(round(progress * 100, 1)) + '%')\n",
    "    return newArray"
   ]
  },
  {
   "cell_type": "markdown",
   "metadata": {},
   "source": [
    "## Key values"
   ]
  },
  {
   "cell_type": "code",
   "execution_count": 7,
   "metadata": {},
   "outputs": [],
   "source": [
    "data_date = datetime.datetime(2020, 6, 5)\n",
    "disease_startdate = datetime.datetime(2019, 11, 1)"
   ]
  },
  {
   "cell_type": "markdown",
   "metadata": {},
   "source": [
    "# Subsetting and Pre-Organization"
   ]
  },
  {
   "cell_type": "markdown",
   "metadata": {},
   "source": [
    "Find only unique articles (disambiguated by CORD-19 as shown by cord_uid)."
   ]
  },
  {
   "cell_type": "code",
   "execution_count": 8,
   "metadata": {},
   "outputs": [
    {
     "name": "stderr",
     "output_type": "stream",
     "text": [
      "C:\\Users\\vldoa\\Anaconda3\\lib\\site-packages\\IPython\\core\\interactiveshell.py:3063: DtypeWarning: Columns (13,14) have mixed types.Specify dtype option on import or set low_memory=False.\n",
      "  interactivity=interactivity, compiler=compiler, result=result)\n"
     ]
    },
    {
     "name": "stdout",
     "output_type": "stream",
     "text": [
      "Number of CORD-19 rows: 136082\n",
      "Number of CORD-19 rows: 135473\n"
     ]
    }
   ],
   "source": [
    "metadata = pd.read_csv('big-data/metadata_20-06-05.csv')\n",
    "print('Number of CORD-19 rows: ' + str(len(metadata)))\n",
    "metadata = metadata.drop_duplicates(subset=['cord_uid'], keep='first') # drop the very few duplicates\n",
    "print('Number of CORD-19 rows: ' + str(len(metadata)))"
   ]
  },
  {
   "cell_type": "markdown",
   "metadata": {},
   "source": [
    "Find articles relevant to coronaviruses by whether they mention a coronavirus in the abstract."
   ]
  },
  {
   "cell_type": "code",
   "execution_count": 9,
   "metadata": {
    "scrolled": true
   },
   "outputs": [
    {
     "name": "stdout",
     "output_type": "stream",
     "text": [
      "Number of CORD-19 abstracts: 104782\n",
      "Number of relevant CORD-19 rows: 35039\n"
     ]
    }
   ],
   "source": [
    "metadata = metadata[pd.isnull(metadata['abstract']) == False].reset_index(drop=True)\n",
    "print('Number of CORD-19 abstracts: ' + str(len(metadata)))\n",
    "metadata = metadata[metadata['abstract'].str.lower().str.contains(\n",
    " \"covid-19|coronavirus|coronavirus|corona virus|2019-ncov|sars-cov|mers-cov|severe acute respiratory syndrome|middle east respiratory syndrome|sars-cov-2\") | \n",
    "     metadata['abstract'].str.contains(\"MERS\")\n",
    "     ]\n",
    "metadata = metadata.reset_index(drop=True)\n",
    "print('Number of relevant CORD-19 rows: ' + str(len(metadata)))"
   ]
  },
  {
   "cell_type": "code",
   "execution_count": 10,
   "metadata": {},
   "outputs": [
    {
     "name": "stdout",
     "output_type": "stream",
     "text": [
      "Number of COVID-19 abstracts: 20221\n"
     ]
    }
   ],
   "source": [
    "metadata['covid_or_not'] = metadata['abstract'].str.contains('COVID|2019-nCoV|SARS-CoV-2')\n",
    "print('Number of COVID-19 abstracts: ' + str(sum(metadata['covid_or_not'])))"
   ]
  },
  {
   "cell_type": "markdown",
   "metadata": {},
   "source": [
    "# Author Analytics"
   ]
  },
  {
   "cell_type": "markdown",
   "metadata": {},
   "source": [
    "## Identifying unique authors"
   ]
  },
  {
   "cell_type": "markdown",
   "metadata": {},
   "source": [
    "Find separate authors in each article, and store that information."
   ]
  },
  {
   "cell_type": "code",
   "execution_count": 11,
   "metadata": {},
   "outputs": [],
   "source": [
    "metadata['authors'] = metadata['authors'].astype(str)\n",
    "metadata['authors_split'] = metadata['authors'].apply(lambda x: x.split('; ')).tolist()"
   ]
  },
  {
   "cell_type": "code",
   "execution_count": 12,
   "metadata": {},
   "outputs": [
    {
     "name": "stdout",
     "output_type": "stream",
     "text": [
      "143.7212929725647\n"
     ]
    },
    {
     "data": {
      "text/html": [
       "<div>\n",
       "<style scoped>\n",
       "    .dataframe tbody tr th:only-of-type {\n",
       "        vertical-align: middle;\n",
       "    }\n",
       "\n",
       "    .dataframe tbody tr th {\n",
       "        vertical-align: top;\n",
       "    }\n",
       "\n",
       "    .dataframe thead th {\n",
       "        text-align: right;\n",
       "    }\n",
       "</style>\n",
       "<table border=\"1\" class=\"dataframe\">\n",
       "  <thead>\n",
       "    <tr style=\"text-align: right;\">\n",
       "      <th></th>\n",
       "      <th>cord_uid</th>\n",
       "      <th>authors</th>\n",
       "    </tr>\n",
       "  </thead>\n",
       "  <tbody>\n",
       "    <tr>\n",
       "      <th>0</th>\n",
       "      <td>8y24j34j</td>\n",
       "      <td>Adney, Danielle R.</td>\n",
       "    </tr>\n",
       "    <tr>\n",
       "      <th>1</th>\n",
       "      <td>8y24j34j</td>\n",
       "      <td>Bielefeldt-Ohmann, Helle</td>\n",
       "    </tr>\n",
       "    <tr>\n",
       "      <th>2</th>\n",
       "      <td>8y24j34j</td>\n",
       "      <td>Hartwig, Airn E.</td>\n",
       "    </tr>\n",
       "    <tr>\n",
       "      <th>3</th>\n",
       "      <td>8y24j34j</td>\n",
       "      <td>Bowen, Richard A.</td>\n",
       "    </tr>\n",
       "    <tr>\n",
       "      <th>4</th>\n",
       "      <td>7u5jvcyg</td>\n",
       "      <td>Selgelid, Michael J.</td>\n",
       "    </tr>\n",
       "    <tr>\n",
       "      <th>...</th>\n",
       "      <td>...</td>\n",
       "      <td>...</td>\n",
       "    </tr>\n",
       "    <tr>\n",
       "      <th>236506</th>\n",
       "      <td>5n55yl2s</td>\n",
       "      <td>van Bussel, Lianne P. M.</td>\n",
       "    </tr>\n",
       "    <tr>\n",
       "      <th>236507</th>\n",
       "      <td>5n55yl2s</td>\n",
       "      <td>de Hoop‐Sommen, Marika</td>\n",
       "    </tr>\n",
       "    <tr>\n",
       "      <th>236508</th>\n",
       "      <td>5n55yl2s</td>\n",
       "      <td>Russel, Frans G. M.</td>\n",
       "    </tr>\n",
       "    <tr>\n",
       "      <th>236509</th>\n",
       "      <td>5n55yl2s</td>\n",
       "      <td>Johnson, Trevor N.</td>\n",
       "    </tr>\n",
       "    <tr>\n",
       "      <th>236510</th>\n",
       "      <td>5n55yl2s</td>\n",
       "      <td>de Wildt, Saskia N.</td>\n",
       "    </tr>\n",
       "  </tbody>\n",
       "</table>\n",
       "<p>236511 rows × 2 columns</p>\n",
       "</div>"
      ],
      "text/plain": [
       "        cord_uid                   authors\n",
       "0       8y24j34j        Adney, Danielle R.\n",
       "1       8y24j34j  Bielefeldt-Ohmann, Helle\n",
       "2       8y24j34j          Hartwig, Airn E.\n",
       "3       8y24j34j         Bowen, Richard A.\n",
       "4       7u5jvcyg      Selgelid, Michael J.\n",
       "...          ...                       ...\n",
       "236506  5n55yl2s  van Bussel, Lianne P. M.\n",
       "236507  5n55yl2s    de Hoop‐Sommen, Marika\n",
       "236508  5n55yl2s       Russel, Frans G. M.\n",
       "236509  5n55yl2s        Johnson, Trevor N.\n",
       "236510  5n55yl2s       de Wildt, Saskia N.\n",
       "\n",
       "[236511 rows x 2 columns]"
      ]
     },
     "execution_count": 12,
     "metadata": {},
     "output_type": "execute_result"
    }
   ],
   "source": [
    "t = time.time()\n",
    "\n",
    "article_authors = metadata[['cord_uid', 'authors_split']]\n",
    "article_authors = article_authors.set_index(['cord_uid'])['authors_split'].apply(pd.Series)\\\n",
    "                                         .stack()\\\n",
    "                                         .reset_index(level=1, drop=True)\n",
    "article_authors = article_authors.reset_index()\n",
    "article_authors.columns = ['cord_uid', 'authors']\n",
    "\n",
    "print(time.time() - t)\n",
    "article_authors"
   ]
  },
  {
   "cell_type": "markdown",
   "metadata": {},
   "source": [
    "### Author Disambiguation"
   ]
  },
  {
   "cell_type": "markdown",
   "metadata": {},
   "source": [
    "Process author names in numerous ways, related to character case, last name/first name format, punctuation, character accents, etc."
   ]
  },
  {
   "cell_type": "code",
   "execution_count": 13,
   "metadata": {},
   "outputs": [
    {
     "name": "stdout",
     "output_type": "stream",
     "text": [
      "139197 unique author names .\n",
      "137330 unique author names (lower case).\n",
      "137021 unique author names (punctuation).\n",
      "128626 unique author names (first/surname ordering).\n",
      "128135 unique author names (accented characters).\n",
      "Special cases: there are 7 author names with more than 1 comma.\n",
      "There are 24 author names with no comma.\n",
      "2 iterations of space eliminator\n",
      "128130 unique processed author names (whitespace elimination).\n"
     ]
    },
    {
     "data": {
      "text/html": [
       "<div>\n",
       "<style scoped>\n",
       "    .dataframe tbody tr th:only-of-type {\n",
       "        vertical-align: middle;\n",
       "    }\n",
       "\n",
       "    .dataframe tbody tr th {\n",
       "        vertical-align: top;\n",
       "    }\n",
       "\n",
       "    .dataframe thead th {\n",
       "        text-align: right;\n",
       "    }\n",
       "</style>\n",
       "<table border=\"1\" class=\"dataframe\">\n",
       "  <thead>\n",
       "    <tr style=\"text-align: right;\">\n",
       "      <th></th>\n",
       "      <th>author</th>\n",
       "      <th>processed_author</th>\n",
       "    </tr>\n",
       "  </thead>\n",
       "  <tbody>\n",
       "    <tr>\n",
       "      <th>0</th>\n",
       "      <td>'Alvarez-Castro, Jos'e M.</td>\n",
       "      <td>jose m alvarezcastro</td>\n",
       "    </tr>\n",
       "    <tr>\n",
       "      <th>1</th>\n",
       "      <td>, Umesh</td>\n",
       "      <td>umesh</td>\n",
       "    </tr>\n",
       "    <tr>\n",
       "      <th>2</th>\n",
       "      <td>. ., و .</td>\n",
       "      <td></td>\n",
       "    </tr>\n",
       "    <tr>\n",
       "      <th>3</th>\n",
       "      <td>917,</td>\n",
       "      <td>917</td>\n",
       "    </tr>\n",
       "    <tr>\n",
       "      <th>4</th>\n",
       "      <td>925,</td>\n",
       "      <td>925</td>\n",
       "    </tr>\n",
       "    <tr>\n",
       "      <th>...</th>\n",
       "      <td>...</td>\n",
       "      <td>...</td>\n",
       "    </tr>\n",
       "    <tr>\n",
       "      <th>139192</th>\n",
       "      <td>徐永年,</td>\n",
       "      <td></td>\n",
       "    </tr>\n",
       "    <tr>\n",
       "      <th>139193</th>\n",
       "      <td>梁瑞芳,</td>\n",
       "      <td></td>\n",
       "    </tr>\n",
       "    <tr>\n",
       "      <th>139194</th>\n",
       "      <td>范姜宇龍,</td>\n",
       "      <td></td>\n",
       "    </tr>\n",
       "    <tr>\n",
       "      <th>139195</th>\n",
       "      <td>鄭明德,</td>\n",
       "      <td></td>\n",
       "    </tr>\n",
       "    <tr>\n",
       "      <th>139196</th>\n",
       "      <td>陳彩惠,</td>\n",
       "      <td></td>\n",
       "    </tr>\n",
       "  </tbody>\n",
       "</table>\n",
       "<p>139197 rows × 2 columns</p>\n",
       "</div>"
      ],
      "text/plain": [
       "                           author      processed_author\n",
       "0       'Alvarez-Castro, Jos'e M.  jose m alvarezcastro\n",
       "1                         , Umesh                 umesh\n",
       "2                        . ., و .                      \n",
       "3                            917,                   917\n",
       "4                            925,                   925\n",
       "...                           ...                   ...\n",
       "139192                       徐永年,                      \n",
       "139193                       梁瑞芳,                      \n",
       "139194                      范姜宇龍,                      \n",
       "139195                       鄭明德,                      \n",
       "139196                       陳彩惠,                      \n",
       "\n",
       "[139197 rows x 2 columns]"
      ]
     },
     "execution_count": 13,
     "metadata": {},
     "output_type": "execute_result"
    }
   ],
   "source": [
    "def status_update(column, details=''):\n",
    "    print(str(len(np.unique(column))) + ' unique author names ' + details + '.')\n",
    "\n",
    "# Lower case, firstname-lastname format, remove punctuation\n",
    "unique_authors = pd.DataFrame(np.unique(article_authors['authors']), columns=['author'])\n",
    "status_update(unique_authors['author'], details='')\n",
    "\n",
    "unique_authors['lower_author'] = unique_authors['author'].str.lower()\n",
    "status_update(unique_authors['lower_author'], details='(lower case)')\n",
    "\n",
    "unique_authors['comma_count'] = unique_authors['author'].str.count(',')\n",
    "unique_authors['processed_author'] = unique_authors['lower_author'].str.split(', ')\n",
    "unique_authors['processed_author'] = unique_authors['processed_author'].apply(\n",
    "    lambda x: x[1] + ' ' + x[0] if len(x) > 1 else x[0])\n",
    "status_update(unique_authors['processed_author'], details='(punctuation)')\n",
    "\n",
    "unique_authors['processed_author'] = unique_authors['processed_author'].str.replace('[^\\w\\s]','')\n",
    "status_update(unique_authors['processed_author'], details='(first/surname ordering)')\n",
    "\n",
    "# Here, in rare cases, characters are deleted outright; I believe, however, this creates\n",
    "# more consistencies than inconsistencies\n",
    "unique_authors['processed_author'] = unique_authors['processed_author'].str.normalize('NFKD')\\\n",
    "        .str.encode('ascii', errors='ignore')\\\n",
    "        .str.decode('utf-8') \n",
    "status_update(unique_authors['processed_author'], details='(accented characters)')\n",
    "\n",
    "\n",
    "# Count special cases.\n",
    "print('Special cases: there are ' + str(sum(unique_authors['comma_count'] > 1)) + ' author names with more than 1 comma.')\n",
    "print('There are ' + str(sum(unique_authors['comma_count'] == 0)) + ' author names with no comma.')\n",
    "\n",
    "unique_authors = unique_authors[['author', 'processed_author']]\n",
    "\n",
    "# Delete excess spaces\n",
    "length_sum = 0; counter = 0\n",
    "while length_sum != np.sum(unique_authors['processed_author'].str.len()):\n",
    "    length_sum = np.sum(unique_authors['processed_author'].str.len())\n",
    "    unique_authors['processed_author'] = unique_authors['processed_author'].str.lstrip()\n",
    "    unique_authors['processed_author'] = unique_authors['processed_author'].str.rstrip()\n",
    "    unique_authors['processed_author'] = unique_authors['processed_author'].str.replace(\"  \", \" \") # drop multi-space\n",
    "    counter += 1\n",
    "print(str(counter) + ' iterations of space eliminator')\n",
    "print(str(len(np.unique(unique_authors['processed_author']))) +\n",
    "      ' unique processed author names (whitespace elimination).')\n",
    "\n",
    "unique_authors"
   ]
  },
  {
   "cell_type": "markdown",
   "metadata": {},
   "source": [
    "Experiments with super-fast string matching using **string_grouper** package suggest that it's not a good idea to use a fuzzy search on the processed names alone. One-character changes can change people's names, making it counterproductive to look for misspellings."
   ]
  },
  {
   "cell_type": "code",
   "execution_count": 13,
   "metadata": {},
   "outputs": [
    {
     "name": "stdout",
     "output_type": "stream",
     "text": [
      "13.699529886245728\n"
     ]
    }
   ],
   "source": [
    "t = time.time()\n",
    "matches = string_grouper.match_strings(unique_authors['processed_author'])\n",
    "print(time.time() - t)\n",
    "\n",
    "# # matches = matches.sort_values('similarity')\n",
    "# subset = matches[(matches['similarity'] > 0.98) & (matches['similarity'] < 0.99)]\n",
    "# subset.to_csv('big-data\\matches_small.csv', index=False)"
   ]
  },
  {
   "cell_type": "markdown",
   "metadata": {},
   "source": [
    "This is the beginning of some code to perform a refined fuzzy-search disambiguation. We aim to find perfect matches of authors' last names and among those for each author, find near-matches for text not associated with a last name. This hasn't been finished and so it's not clear whether this is effective or if it'll make the analytics worse."
   ]
  },
  {
   "cell_type": "code",
   "execution_count": 14,
   "metadata": {},
   "outputs": [],
   "source": [
    "# def grab_all_except_last_item(lst): \n",
    "#     return_string = ''\n",
    "#     for e, item in enumerate(lst):\n",
    "#         if e == len(lst) - 1:\n",
    "#             break\n",
    "#         return_string += item + ' '\n",
    "#     return_string = return_string[0:len(return_string) - 1]\n",
    "#     return return_string\n",
    "\n",
    "# unique_authors['lastname'] = unique_authors['processed_author'].str.split(' ').map(lambda x: x[len(x) - 1])\n",
    "# unique_authors['othername'] = unique_authors['processed_author'].str.\\\n",
    "#         split(' ').map(lambda x: grab_all_except_last_item(x))"
   ]
  },
  {
   "cell_type": "markdown",
   "metadata": {},
   "source": [
    "#### Finalize author key"
   ]
  },
  {
   "cell_type": "markdown",
   "metadata": {},
   "source": [
    "Creating unique integer author IDs for each unique author. Note: this is a pretty slow process (takes ~6 minutes), and it's possible that processed string of an author name could itself serve as an ID. So it's not entirely clear how this is necessary, unless there are possible plans to change which column is used as the key. In this case, a constant 'author_id' column is useful."
   ]
  },
  {
   "cell_type": "code",
   "execution_count": 14,
   "metadata": {
    "scrolled": true
   },
   "outputs": [
    {
     "name": "stdout",
     "output_type": "stream",
     "text": [
      "Progress: 0.0%\n",
      "Progress: 1.0%\n",
      "Progress: 2.0%\n",
      "Progress: 3.0%\n",
      "Progress: 4.0%\n",
      "Progress: 5.0%\n",
      "Progress: 6.0%\n",
      "Progress: 7.0%\n",
      "Progress: 8.0%\n",
      "Progress: 9.0%\n",
      "Progress: 10.0%\n",
      "Progress: 11.0%\n",
      "Progress: 12.0%\n",
      "Progress: 13.0%\n",
      "Progress: 14.0%\n",
      "Progress: 15.0%\n",
      "Progress: 16.0%\n",
      "Progress: 17.0%\n",
      "Progress: 18.0%\n",
      "Progress: 19.0%\n",
      "Progress: 20.0%\n",
      "Progress: 21.0%\n",
      "Progress: 22.0%\n",
      "Progress: 23.0%\n",
      "Progress: 24.0%\n",
      "Progress: 25.0%\n",
      "Progress: 26.0%\n",
      "Progress: 27.0%\n",
      "Progress: 28.0%\n",
      "Progress: 29.0%\n",
      "Progress: 30.0%\n",
      "Progress: 31.0%\n",
      "Progress: 32.0%\n",
      "Progress: 33.0%\n",
      "Progress: 34.0%\n",
      "Progress: 35.0%\n",
      "Progress: 36.0%\n",
      "Progress: 37.0%\n",
      "Progress: 38.0%\n",
      "Progress: 39.0%\n",
      "Progress: 40.0%\n",
      "Progress: 41.0%\n",
      "Progress: 42.0%\n",
      "Progress: 43.0%\n",
      "Progress: 44.0%\n",
      "Progress: 45.0%\n",
      "Progress: 46.0%\n",
      "Progress: 47.0%\n",
      "Progress: 48.0%\n",
      "Progress: 49.0%\n",
      "Progress: 50.0%\n",
      "Progress: 51.0%\n",
      "Progress: 52.0%\n",
      "Progress: 53.0%\n",
      "Progress: 54.0%\n",
      "Progress: 55.0%\n",
      "Progress: 56.0%\n",
      "Progress: 57.0%\n",
      "Progress: 58.0%\n",
      "Progress: 59.0%\n",
      "Progress: 60.0%\n",
      "Progress: 61.0%\n",
      "Progress: 62.0%\n",
      "Progress: 63.0%\n",
      "Progress: 64.0%\n",
      "Progress: 65.0%\n",
      "Progress: 66.0%\n",
      "Progress: 67.0%\n",
      "Progress: 68.0%\n",
      "Progress: 69.0%\n",
      "Progress: 70.0%\n",
      "Progress: 71.0%\n",
      "Progress: 72.0%\n",
      "Progress: 73.0%\n",
      "Progress: 74.0%\n",
      "Progress: 75.0%\n",
      "Progress: 76.0%\n",
      "Progress: 77.0%\n",
      "Progress: 78.0%\n",
      "Progress: 79.0%\n",
      "Progress: 80.0%\n",
      "Progress: 81.0%\n",
      "Progress: 82.0%\n",
      "Progress: 83.0%\n",
      "Progress: 84.0%\n",
      "Progress: 85.0%\n",
      "Progress: 86.0%\n",
      "Progress: 87.0%\n",
      "Progress: 88.0%\n",
      "Progress: 89.0%\n",
      "Progress: 90.0%\n",
      "Progress: 91.0%\n",
      "Progress: 92.0%\n",
      "Progress: 93.0%\n",
      "Progress: 94.0%\n",
      "Progress: 95.0%\n",
      "Progress: 96.0%\n",
      "Progress: 97.0%\n",
      "Progress: 98.0%\n",
      "Progress: 99.0%\n",
      "2344.9908900260925 seconds\n"
     ]
    }
   ],
   "source": [
    "unique_processed_authors = np.unique(unique_authors['processed_author'])\n",
    "author_id_dict = {}\n",
    "for e, author in enumerate(unique_processed_authors):\n",
    "    author_id_dict.update({author : e})\n",
    "    \n",
    "t = time.time()\n",
    "unique_authors['author_id'] = unique_authors['processed_author']\n",
    "unique_authors['author_id'] = map_values(\n",
    "    unique_authors['author_id'], author_id_dict,\n",
    "    verbose=True, increment=0.01).astype(int)\n",
    "print(str(time.time() - t) + ' seconds')"
   ]
  },
  {
   "cell_type": "markdown",
   "metadata": {},
   "source": [
    "Merge author key back into article_authors"
   ]
  },
  {
   "cell_type": "code",
   "execution_count": 15,
   "metadata": {},
   "outputs": [
    {
     "data": {
      "text/html": [
       "<div>\n",
       "<style scoped>\n",
       "    .dataframe tbody tr th:only-of-type {\n",
       "        vertical-align: middle;\n",
       "    }\n",
       "\n",
       "    .dataframe tbody tr th {\n",
       "        vertical-align: top;\n",
       "    }\n",
       "\n",
       "    .dataframe thead th {\n",
       "        text-align: right;\n",
       "    }\n",
       "</style>\n",
       "<table border=\"1\" class=\"dataframe\">\n",
       "  <thead>\n",
       "    <tr style=\"text-align: right;\">\n",
       "      <th></th>\n",
       "      <th>cord_uid</th>\n",
       "      <th>authors</th>\n",
       "      <th>processed_author</th>\n",
       "      <th>author_id</th>\n",
       "    </tr>\n",
       "  </thead>\n",
       "  <tbody>\n",
       "    <tr>\n",
       "      <th>0</th>\n",
       "      <td>8y24j34j</td>\n",
       "      <td>Adney, Danielle R.</td>\n",
       "      <td>danielle r adney</td>\n",
       "      <td>24952</td>\n",
       "    </tr>\n",
       "    <tr>\n",
       "      <th>1</th>\n",
       "      <td>8y24j34j</td>\n",
       "      <td>Bielefeldt-Ohmann, Helle</td>\n",
       "      <td>helle bielefeldtohmann</td>\n",
       "      <td>43210</td>\n",
       "    </tr>\n",
       "    <tr>\n",
       "      <th>2</th>\n",
       "      <td>8y24j34j</td>\n",
       "      <td>Hartwig, Airn E.</td>\n",
       "      <td>airn e hartwig</td>\n",
       "      <td>4348</td>\n",
       "    </tr>\n",
       "    <tr>\n",
       "      <th>3</th>\n",
       "      <td>8y24j34j</td>\n",
       "      <td>Bowen, Richard A.</td>\n",
       "      <td>richard a bowen</td>\n",
       "      <td>95260</td>\n",
       "    </tr>\n",
       "    <tr>\n",
       "      <th>4</th>\n",
       "      <td>7u5jvcyg</td>\n",
       "      <td>Selgelid, Michael J.</td>\n",
       "      <td>michael j selgelid</td>\n",
       "      <td>78550</td>\n",
       "    </tr>\n",
       "    <tr>\n",
       "      <th>...</th>\n",
       "      <td>...</td>\n",
       "      <td>...</td>\n",
       "      <td>...</td>\n",
       "      <td>...</td>\n",
       "    </tr>\n",
       "    <tr>\n",
       "      <th>236506</th>\n",
       "      <td>5n55yl2s</td>\n",
       "      <td>van Bussel, Lianne P. M.</td>\n",
       "      <td>lianne p m van bussel</td>\n",
       "      <td>66403</td>\n",
       "    </tr>\n",
       "    <tr>\n",
       "      <th>236507</th>\n",
       "      <td>5n55yl2s</td>\n",
       "      <td>de Hoop‐Sommen, Marika</td>\n",
       "      <td>marika de hoopsommen</td>\n",
       "      <td>74644</td>\n",
       "    </tr>\n",
       "    <tr>\n",
       "      <th>236508</th>\n",
       "      <td>5n55yl2s</td>\n",
       "      <td>Russel, Frans G. M.</td>\n",
       "      <td>frans g m russel</td>\n",
       "      <td>35695</td>\n",
       "    </tr>\n",
       "    <tr>\n",
       "      <th>236509</th>\n",
       "      <td>5n55yl2s</td>\n",
       "      <td>Johnson, Trevor N.</td>\n",
       "      <td>trevor n johnson</td>\n",
       "      <td>112861</td>\n",
       "    </tr>\n",
       "    <tr>\n",
       "      <th>236510</th>\n",
       "      <td>5n55yl2s</td>\n",
       "      <td>de Wildt, Saskia N.</td>\n",
       "      <td>saskia n de wildt</td>\n",
       "      <td>101910</td>\n",
       "    </tr>\n",
       "  </tbody>\n",
       "</table>\n",
       "<p>236511 rows × 4 columns</p>\n",
       "</div>"
      ],
      "text/plain": [
       "        cord_uid                   authors        processed_author  author_id\n",
       "0       8y24j34j        Adney, Danielle R.        danielle r adney      24952\n",
       "1       8y24j34j  Bielefeldt-Ohmann, Helle  helle bielefeldtohmann      43210\n",
       "2       8y24j34j          Hartwig, Airn E.          airn e hartwig       4348\n",
       "3       8y24j34j         Bowen, Richard A.         richard a bowen      95260\n",
       "4       7u5jvcyg      Selgelid, Michael J.      michael j selgelid      78550\n",
       "...          ...                       ...                     ...        ...\n",
       "236506  5n55yl2s  van Bussel, Lianne P. M.   lianne p m van bussel      66403\n",
       "236507  5n55yl2s    de Hoop‐Sommen, Marika    marika de hoopsommen      74644\n",
       "236508  5n55yl2s       Russel, Frans G. M.        frans g m russel      35695\n",
       "236509  5n55yl2s        Johnson, Trevor N.        trevor n johnson     112861\n",
       "236510  5n55yl2s       de Wildt, Saskia N.       saskia n de wildt     101910\n",
       "\n",
       "[236511 rows x 4 columns]"
      ]
     },
     "execution_count": 15,
     "metadata": {},
     "output_type": "execute_result"
    }
   ],
   "source": [
    "article_authors = article_authors.merge(\n",
    "    unique_authors, how='left', left_on='authors', right_on='author')\n",
    "del article_authors['author']\n",
    "article_authors"
   ]
  },
  {
   "cell_type": "code",
   "execution_count": 17,
   "metadata": {},
   "outputs": [],
   "source": [
    "# # use this code at any time to reset article_authors\n",
    "# article_authors = article_authors[['cord_uid', 'authors']]"
   ]
  },
  {
   "cell_type": "markdown",
   "metadata": {},
   "source": [
    "## Time analytics"
   ]
  },
  {
   "cell_type": "markdown",
   "metadata": {},
   "source": [
    "Get date-time information and preprocess it"
   ]
  },
  {
   "cell_type": "code",
   "execution_count": 16,
   "metadata": {},
   "outputs": [
    {
     "name": "stdout",
     "output_type": "stream",
     "text": [
      "17 dates unavailable.\n",
      "618 impossible dates.\n",
      "Examples of impossible dates: \n"
     ]
    },
    {
     "data": {
      "text/html": [
       "<div>\n",
       "<style scoped>\n",
       "    .dataframe tbody tr th:only-of-type {\n",
       "        vertical-align: middle;\n",
       "    }\n",
       "\n",
       "    .dataframe tbody tr th {\n",
       "        vertical-align: top;\n",
       "    }\n",
       "\n",
       "    .dataframe thead th {\n",
       "        text-align: right;\n",
       "    }\n",
       "</style>\n",
       "<table border=\"1\" class=\"dataframe\">\n",
       "  <thead>\n",
       "    <tr style=\"text-align: right;\">\n",
       "      <th></th>\n",
       "      <th>cord_uid</th>\n",
       "      <th>authors</th>\n",
       "      <th>processed_author</th>\n",
       "      <th>author_id</th>\n",
       "      <th>publish_time</th>\n",
       "      <th>converted_datetime</th>\n",
       "    </tr>\n",
       "  </thead>\n",
       "  <tbody>\n",
       "    <tr>\n",
       "      <th>235876</th>\n",
       "      <td>c0r2nbzo</td>\n",
       "      <td>Kandeel, Mahmoud</td>\n",
       "      <td>mahmoud kandeel</td>\n",
       "      <td>72457</td>\n",
       "      <td>2020-06-15</td>\n",
       "      <td>2020-06-15</td>\n",
       "    </tr>\n",
       "    <tr>\n",
       "      <th>235877</th>\n",
       "      <td>c0r2nbzo</td>\n",
       "      <td>Al-Nazawi, Mohammed</td>\n",
       "      <td>mohammed alnazawi</td>\n",
       "      <td>80720</td>\n",
       "      <td>2020-06-15</td>\n",
       "      <td>2020-06-15</td>\n",
       "    </tr>\n",
       "    <tr>\n",
       "      <th>235878</th>\n",
       "      <td>ky33ju30</td>\n",
       "      <td>Tan, Weiyi</td>\n",
       "      <td>weiyi tan</td>\n",
       "      <td>116856</td>\n",
       "      <td>2020-06-15</td>\n",
       "      <td>2020-06-15</td>\n",
       "    </tr>\n",
       "    <tr>\n",
       "      <th>235879</th>\n",
       "      <td>5g9vyopv</td>\n",
       "      <td>Simani, Leila</td>\n",
       "      <td>leila simani</td>\n",
       "      <td>65722</td>\n",
       "      <td>2020-06-15</td>\n",
       "      <td>2020-06-15</td>\n",
       "    </tr>\n",
       "    <tr>\n",
       "      <th>235880</th>\n",
       "      <td>5g9vyopv</td>\n",
       "      <td>Asadi-Pooya, Ali A.</td>\n",
       "      <td>ali a asadipooya</td>\n",
       "      <td>5856</td>\n",
       "      <td>2020-06-15</td>\n",
       "      <td>2020-06-15</td>\n",
       "    </tr>\n",
       "    <tr>\n",
       "      <th>...</th>\n",
       "      <td>...</td>\n",
       "      <td>...</td>\n",
       "      <td>...</td>\n",
       "      <td>...</td>\n",
       "      <td>...</td>\n",
       "      <td>...</td>\n",
       "    </tr>\n",
       "    <tr>\n",
       "      <th>236489</th>\n",
       "      <td>wyz5jyjh</td>\n",
       "      <td>Wang, Xun</td>\n",
       "      <td>xun wang</td>\n",
       "      <td>120749</td>\n",
       "      <td>2020-12-31</td>\n",
       "      <td>2020-12-31</td>\n",
       "    </tr>\n",
       "    <tr>\n",
       "      <th>236490</th>\n",
       "      <td>wyz5jyjh</td>\n",
       "      <td>Song, Yuanlin</td>\n",
       "      <td>yuanlin song</td>\n",
       "      <td>124529</td>\n",
       "      <td>2020-12-31</td>\n",
       "      <td>2020-12-31</td>\n",
       "    </tr>\n",
       "    <tr>\n",
       "      <th>236491</th>\n",
       "      <td>wyz5jyjh</td>\n",
       "      <td>Zhang, Ziqiang</td>\n",
       "      <td>ziqiang zhang</td>\n",
       "      <td>127832</td>\n",
       "      <td>2020-12-31</td>\n",
       "      <td>2020-12-31</td>\n",
       "    </tr>\n",
       "    <tr>\n",
       "      <th>236492</th>\n",
       "      <td>p30wz7b7</td>\n",
       "      <td>Englund, Janet A.</td>\n",
       "      <td>janet a englund</td>\n",
       "      <td>50742</td>\n",
       "      <td>2021-12-31</td>\n",
       "      <td>2021-12-31</td>\n",
       "    </tr>\n",
       "    <tr>\n",
       "      <th>236493</th>\n",
       "      <td>p30wz7b7</td>\n",
       "      <td>Waghmare, Alpana</td>\n",
       "      <td>alpana waghmare</td>\n",
       "      <td>6439</td>\n",
       "      <td>2021-12-31</td>\n",
       "      <td>2021-12-31</td>\n",
       "    </tr>\n",
       "  </tbody>\n",
       "</table>\n",
       "<p>618 rows × 6 columns</p>\n",
       "</div>"
      ],
      "text/plain": [
       "        cord_uid              authors   processed_author  author_id  \\\n",
       "235876  c0r2nbzo     Kandeel, Mahmoud    mahmoud kandeel      72457   \n",
       "235877  c0r2nbzo  Al-Nazawi, Mohammed  mohammed alnazawi      80720   \n",
       "235878  ky33ju30           Tan, Weiyi          weiyi tan     116856   \n",
       "235879  5g9vyopv        Simani, Leila       leila simani      65722   \n",
       "235880  5g9vyopv  Asadi-Pooya, Ali A.   ali a asadipooya       5856   \n",
       "...          ...                  ...                ...        ...   \n",
       "236489  wyz5jyjh            Wang, Xun           xun wang     120749   \n",
       "236490  wyz5jyjh        Song, Yuanlin       yuanlin song     124529   \n",
       "236491  wyz5jyjh       Zhang, Ziqiang      ziqiang zhang     127832   \n",
       "236492  p30wz7b7    Englund, Janet A.    janet a englund      50742   \n",
       "236493  p30wz7b7     Waghmare, Alpana    alpana waghmare       6439   \n",
       "\n",
       "       publish_time converted_datetime  \n",
       "235876   2020-06-15         2020-06-15  \n",
       "235877   2020-06-15         2020-06-15  \n",
       "235878   2020-06-15         2020-06-15  \n",
       "235879   2020-06-15         2020-06-15  \n",
       "235880   2020-06-15         2020-06-15  \n",
       "...             ...                ...  \n",
       "236489   2020-12-31         2020-12-31  \n",
       "236490   2020-12-31         2020-12-31  \n",
       "236491   2020-12-31         2020-12-31  \n",
       "236492   2021-12-31         2021-12-31  \n",
       "236493   2021-12-31         2021-12-31  \n",
       "\n",
       "[618 rows x 6 columns]"
      ]
     },
     "execution_count": 16,
     "metadata": {},
     "output_type": "execute_result"
    }
   ],
   "source": [
    "article_authors = article_authors.merge(metadata[['cord_uid', 'publish_time']], how='left')\n",
    "article_authors['converted_datetime'] = pd.to_datetime(article_authors['publish_time'], errors='coerce') # if format fails to parse, return NaT\n",
    "article_authors = article_authors.sort_values('converted_datetime').reset_index(drop=True)\n",
    "print(str(sum(pd.isna(article_authors['converted_datetime'] ))) + ' dates unavailable.')\n",
    "print(str(sum(article_authors['converted_datetime'][\n",
    "    pd.isna(article_authors['converted_datetime']) == False] > data_date)) + ' impossible dates.')\n",
    "print('Examples of impossible dates: ')\n",
    "article_authors[article_authors['converted_datetime'] > data_date]"
   ]
  },
  {
   "cell_type": "code",
   "execution_count": 173,
   "metadata": {},
   "outputs": [],
   "source": [
    "# # output the data if needed\n",
    "# article_authors.to_csv('big-data/article-authors_06-05.csv', sep='|', index=False)\n",
    "\n",
    "# f = open(\"big-data/article-authors_06-05.pkl\", \"wb\") # remember to open the file in binary mode\n",
    "# pickle.dump(article_authors, f)"
   ]
  },
  {
   "cell_type": "code",
   "execution_count": 20,
   "metadata": {},
   "outputs": [
    {
     "data": {
      "text/plain": [
       "0        1969-01-01\n",
       "1        1970-01-01\n",
       "2        1970-01-01\n",
       "3        1970-01-01\n",
       "4        1970-01-01\n",
       "            ...    \n",
       "236506          NaT\n",
       "236507          NaT\n",
       "236508          NaT\n",
       "236509          NaT\n",
       "236510          NaT\n",
       "Name: converted_datetime, Length: 236511, dtype: datetime64[ns]"
      ]
     },
     "execution_count": 20,
     "metadata": {},
     "output_type": "execute_result"
    }
   ],
   "source": [
    "article_authors['converted_datetime']"
   ]
  },
  {
   "cell_type": "code",
   "execution_count": 51,
   "metadata": {},
   "outputs": [],
   "source": [
    "def find_erroneous_dates(df, datetime_col, date_limit):\n",
    "    \"\"\"\n",
    "    Get indices of rows with impossible dates and Jan 1 wonkiness.\n",
    "    \"\"\"\n",
    "    \n",
    "    # Impossilbe dates\n",
    "    indices_exceeding_date_limit = np.array(df[df[datetime_col] > date_limit].index)\n",
    "    \n",
    "    # Jan 1 wonkiness\n",
    "    months = pd.DatetimeIndex(df[datetime_col]).month\n",
    "    days = pd.DatetimeIndex(df[datetime_col]).day\n",
    "    indices_jan1 = np.array(df[(months == 1) & (days == 1)].index)\n",
    "    \n",
    "    # All\n",
    "    indices_all = np.unique(np.hstack([indices_exceeding_date_limit, indices_jan1]))\n",
    "    \n",
    "    return indices_exceeding_date_limit, indices_jan1, indices_all"
   ]
  },
  {
   "cell_type": "code",
   "execution_count": 163,
   "metadata": {},
   "outputs": [],
   "source": [
    "searchterm = ''"
   ]
  },
  {
   "cell_type": "code",
   "execution_count": 164,
   "metadata": {
    "scrolled": true
   },
   "outputs": [
    {
     "name": "stdout",
     "output_type": "stream",
     "text": [
      "236511\n"
     ]
    }
   ],
   "source": [
    "## We can also subset by subject / search term here\n",
    "cord_uid_term_subset = metadata['cord_uid'][metadata['abstract'].str.lower().str.contains(searchterm)]\n",
    "article_authors_subset = article_authors[article_authors['cord_uid'].isin(cord_uid_term_subset)]\n",
    "print(len(article_authors_subset))\n",
    "\n",
    "# Find potential issues with dates and get normalization factor per year\n",
    "indices_exceeding_date_limit, indices_jan1, indices_dateerror_all = find_erroneous_dates(\n",
    "    article_authors_subset, 'converted_datetime', data_date)\n",
    "\n",
    "norm_factors = {}\n",
    "years = np.unique(pd.DatetimeIndex(article_authors_subset['converted_datetime']).year)\n",
    "years = years[np.argwhere(~np.isnan(years)).T[0]]\n",
    "for y in years:\n",
    "    df_subset = article_authors_subset[pd.DatetimeIndex(article_authors_subset['converted_datetime']).year == y]\n",
    "    \n",
    "    if y <= data_date.year:\n",
    "        year_indices_count = np.sum(np.isin(df_subset.index, indices_jan1))\n",
    "        norm_factor = 1 + year_indices_count / len(df_subset)\n",
    "        norm_factors.update({y : norm_factor})"
   ]
  },
  {
   "cell_type": "markdown",
   "metadata": {},
   "source": [
    "Identify the earliest publication of each author. Some other notes on code chunk below.\n",
    "\n",
    "Results before author name disambiguation:\n",
    "* 17769 authors had their first coronavirus publication after 2019-11-01 00:00:00\n",
    "* 19251 unique authors published after 2019-11-01 00:00:0\n",
    "\n",
    "For results after author name disambiguation, see below."
   ]
  },
  {
   "cell_type": "code",
   "execution_count": 165,
   "metadata": {
    "scrolled": true
   },
   "outputs": [
    {
     "name": "stdout",
     "output_type": "stream",
     "text": [
      "86430 authors had their first coronavirus publication after 2019-11-01 00:00:00\n",
      "91735 unique authors published after 2019-11-01 00:00:00\n"
     ]
    }
   ],
   "source": [
    "earliest_publication = article_authors_subset[['author_id', 'converted_datetime']].groupby('author_id')\\\n",
    "            .min()[['converted_datetime']].reset_index()\n",
    "earliest_publication.rename(columns={'converted_datetime' : 'earliest_date'}, inplace=True)\n",
    "earliest_publication['earliest_month'] = earliest_publication['earliest_date'].map(lambda x: strf_date_if_not_na(x))\n",
    "print(str(sum(earliest_publication['earliest_date'] > disease_startdate)) +\n",
    "      ' authors had their first coronavirus publication after ' + str(disease_startdate))\n",
    "\n",
    "author_publications_late = article_authors_subset[article_authors_subset['converted_datetime'] > disease_startdate]\n",
    "print(str(len(np.unique(author_publications_late['author_id']))) + ' unique authors published after ' + str(disease_startdate))"
   ]
  },
  {
   "cell_type": "markdown",
   "metadata": {},
   "source": [
    "Get year-month of each publication. Then produce graphics over time."
   ]
  },
  {
   "cell_type": "markdown",
   "metadata": {},
   "source": [
    "Graphical analysis"
   ]
  },
  {
   "cell_type": "code",
   "execution_count": 166,
   "metadata": {},
   "outputs": [],
   "source": [
    "article_authors_subset['year_month'] = article_authors_subset['converted_datetime'].map(lambda x: strf_date_if_not_na(x))"
   ]
  },
  {
   "cell_type": "code",
   "execution_count": 167,
   "metadata": {},
   "outputs": [
    {
     "data": {
      "image/png": "[encoded data removed]",
      "text/plain": [
       "<Figure size 432x288 with 1 Axes>"
      ]
     },
     "metadata": {
      "needs_background": "light"
     },
     "output_type": "display_data"
    },
    {
     "data": {
      "image/png": "[encoded data removed]",
      "text/plain": [
       "<Figure size 432x288 with 1 Axes>"
      ]
     },
     "metadata": {
      "needs_background": "light"
     },
     "output_type": "display_data"
    },
    {
     "data": {
      "image/png": "[encoded data removed]",
      "text/plain": [
       "<Figure size 432x288 with 1 Axes>"
      ]
     },
     "metadata": {
      "needs_background": "light"
     },
     "output_type": "display_data"
    }
   ],
   "source": [
    "unique_authors_per_month = article_authors_subset[['author_id', 'year_month']].groupby('year_month').nunique()['author_id']\n",
    "unique_authors_per_month = unique_authors_per_month.reset_index()\n",
    "new_authors_by_month = pd.DataFrame(earliest_publication[['author_id', 'earliest_month']].\\\n",
    "                 groupby('earliest_month').count()['author_id']).reset_index()\n",
    "new_authors_by_month\n",
    "\n",
    "\n",
    "unique_authors_per_month_subset = unique_authors_per_month[unique_authors_per_month['year_month'] >= '2019-01']\n",
    "new_authors_by_month_subset = new_authors_by_month[new_authors_by_month['earliest_month'] >= '2019-01']\n",
    "plt.bar(np.arange(len(unique_authors_per_month_subset)), unique_authors_per_month_subset['author_id'])\n",
    "plt.bar(np.arange(len(new_authors_by_month_subset)), new_authors_by_month_subset['author_id'])\n",
    "interval = 2\n",
    "plt.xticks(np.arange(0, len(unique_authors_per_month_subset), interval),\n",
    "           [a for e, a in enumerate(unique_authors_per_month_subset['year_month']) if e % interval == 0], \n",
    "           rotation=45)\n",
    "# plt.yscale('log')\n",
    "plt.ylabel('Count of Unique Authors (log scale)')\n",
    "plt.show()\n",
    "\n",
    "\n",
    "def plot_stuff(unique_authors_per_month_subset, new_authors_by_month_subset):\n",
    "    plt.bar(np.arange(len(new_authors_by_month_subset)), unique_authors_per_month_subset['author_id'], label='Old Authors')\n",
    "    plt.bar(np.arange(len(new_authors_by_month_subset)), new_authors_by_month_subset['author_id'], label='New Authors')\n",
    "    interval = 2\n",
    "    plt.xticks(np.arange(0, len(unique_authors_per_month_subset), interval),\n",
    "               [a for e, a in enumerate(unique_authors_per_month_subset['year_month']) if e % interval == 0], \n",
    "               rotation=45)\n",
    "    # plt.yscale('log')\n",
    "    plt.ylabel('Count of Unique Authors')\n",
    "    plt.legend()\n",
    "    \n",
    "def plot_stuff_pcts(unique_authors_per_month_subset, new_authors_by_month_subset):\n",
    "    plt.line()\n",
    "    \n",
    "unique_authors_per_month_subset = unique_authors_per_month[(unique_authors_per_month['year_month'] >= '2019-01') & \n",
    "                     (unique_authors_per_month['year_month'] <= '2019-12')]\n",
    "new_authors_by_month_subset = new_authors_by_month_subset[(new_authors_by_month_subset['earliest_month'] >= '2019-01') & \n",
    "                     (new_authors_by_month_subset['earliest_month'] <= '2019-12')]\n",
    "plot_stuff(unique_authors_per_month_subset, new_authors_by_month_subset)\n",
    "plt.title('Earlier Year')\n",
    "plt.show()\n",
    "\n",
    "\n",
    "unique_authors_per_month_subset = unique_authors_per_month[\n",
    "    (unique_authors_per_month['year_month'] >= '2019-12') & \n",
    "    (unique_authors_per_month['year_month'] <= '2020-06') ]\n",
    "new_authors_by_month_subset = new_authors_by_month[\n",
    "    (new_authors_by_month['earliest_month'] >= '2019-12') & \n",
    "    (new_authors_by_month['earliest_month'] <= '2020-06') ]\n",
    "plot_stuff(unique_authors_per_month_subset, new_authors_by_month_subset)\n",
    "plt.title('COVID Year')\n",
    "plt.show()"
   ]
  },
  {
   "cell_type": "markdown",
   "metadata": {},
   "source": [
    "Numerical analysis"
   ]
  },
  {
   "cell_type": "code",
   "execution_count": 168,
   "metadata": {},
   "outputs": [
    {
     "name": "stdout",
     "output_type": "stream",
     "text": [
      "2020 unique author count: 91247\n",
      "2020 experienced author count: 5186\n",
      "2020 percent experienced: 5.7%\n",
      "\n",
      "2019 unique author count: 4225\n",
      "2019 experienced author count: 1648\n",
      "2019 percent experienced: 39.0%\n"
     ]
    },
    {
     "data": {
      "text/plain": [
       "0.39005917159763315"
      ]
     },
     "execution_count": 168,
     "metadata": {},
     "output_type": "execute_result"
    }
   ],
   "source": [
    "def analyze_experienced_authors(yr, verbose=False):\n",
    "    author_ids = article_authors_subset[pd.DatetimeIndex(article_authors_subset['converted_datetime']).year == yr]['author_id']\n",
    "    author_ids = np.unique(author_ids)\n",
    "    experienced_ids = earliest_publication['author_id'][pd.DatetimeIndex(earliest_publication['earliest_date']).year < yr]\n",
    "    experienced_ids = author_ids[np.isin(author_ids, experienced_ids)]\n",
    "    \n",
    "    proportion = len(experienced_ids) / len(author_ids)\n",
    "    \n",
    "    if verbose:\n",
    "        print(str(yr) + ' unique author count: ' + str(len(author_ids)))\n",
    "        print(str(yr) + ' experienced author count: ' + str(len(experienced_ids)))\n",
    "        print(str(yr) + ' percent experienced: ' + str(round(proportion * 100, 1)) + '%')\n",
    "        \n",
    "    return proportion\n",
    "\n",
    "\n",
    "analyze_experienced_authors(2020, verbose=True)\n",
    "print()\n",
    "analyze_experienced_authors(2019, verbose=True)"
   ]
  },
  {
   "cell_type": "code",
   "execution_count": 171,
   "metadata": {},
   "outputs": [],
   "source": [
    "proportions = []\n",
    "years = np.arange(1980, 2021)\n",
    "for y in years:\n",
    "    proportions.append(analyze_experienced_authors(y))\n",
    "proportions = np.array(proportions)"
   ]
  },
  {
   "cell_type": "code",
   "execution_count": 175,
   "metadata": {},
   "outputs": [
    {
     "data": {
      "text/plain": [
       "Text(0, 0.5, 'Proportion of Authors with Experience')"
      ]
     },
     "execution_count": 175,
     "metadata": {},
     "output_type": "execute_result"
    },
    {
     "data": {
      "image/png": "[encoded data removed]",
      "text/plain": [
       "<Figure size 432x288 with 1 Axes>"
      ]
     },
     "metadata": {
      "needs_background": "light"
     },
     "output_type": "display_data"
    }
   ],
   "source": [
    "plt.plot(years, proportions)\n",
    "\n",
    "value_2020 = proportions[np.argwhere(years==2020).T[0]]\n",
    "plt.plot([min(years), max(years)], [value_2020, value_2020], c='grey', linestyle='dashed')\n",
    "\n",
    "plt.ylim(0, .5)\n",
    "plt.xlabel('Year')\n",
    "plt.ylabel('Proportion of Authors with Experience')"
   ]
  }
 ],
 "metadata": {
  "kernelspec": {
   "display_name": "Python 3",
   "language": "python",
   "name": "python3"
  },
  "language_info": {
   "codemirror_mode": {
    "name": "ipython",
    "version": 3
   },
   "file_extension": ".py",
   "mimetype": "text/x-python",
   "name": "python",
   "nbconvert_exporter": "python",
   "pygments_lexer": "ipython3",
   "version": "3.7.3"
  }
 },
 "nbformat": 4,
 "nbformat_minor": 2
}
